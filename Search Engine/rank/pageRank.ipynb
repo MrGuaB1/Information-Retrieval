{
 "cells": [
  {
   "cell_type": "code",
   "execution_count": 1,
   "metadata": {
    "collapsed": true,
    "ExecuteTime": {
     "start_time": "2023-12-01T19:42:28.376890Z",
     "end_time": "2023-12-01T19:42:29.599482Z"
    }
   },
   "outputs": [],
   "source": [
    "import pandas as pd\n",
    "import math\n",
    "import networkx\n",
    "import os\n",
    "from parsel import Selector"
   ]
  },
  {
   "cell_type": "code",
   "execution_count": 21,
   "outputs": [],
   "source": [
    "df = pd.read_csv(\"../spider/data.csv\",encoding='utf-8',index_col=\"title\")\n",
    "path = \"../spider/htmls\"\n",
    "files = os.listdir(path)"
   ],
   "metadata": {
    "collapsed": false,
    "ExecuteTime": {
     "start_time": "2023-11-30T20:11:07.249231Z",
     "end_time": "2023-11-30T20:11:07.309352Z"
    }
   }
  },
  {
   "cell_type": "code",
   "execution_count": 50,
   "outputs": [],
   "source": [
    "# 存储一个网页链接到一个列表的映射，列表中的元素为链接对应HTML文档中可以跳转到的链接\n",
    "url_dict = {}"
   ],
   "metadata": {
    "collapsed": false,
    "ExecuteTime": {
     "start_time": "2023-11-30T20:29:11.624444Z",
     "end_time": "2023-11-30T20:29:11.668542Z"
    }
   }
  },
  {
   "cell_type": "code",
   "execution_count": 53,
   "outputs": [],
   "source": [
    "for file in files:\n",
    "    title = str(file).split(\".html\")[0]\n",
    "    url = df.loc[title].url\n",
    "    with open(os.path.join(path,file),'r',encoding='utf-8-sig') as f :\n",
    "        text = f.read()\n",
    "        selector = Selector(text)\n",
    "        url_list = []\n",
    "        url_list.extend(selector.css('a::attr(href)').getall())\n",
    "        url_dict[url] = url_list"
   ],
   "metadata": {
    "collapsed": false,
    "ExecuteTime": {
     "start_time": "2023-11-30T20:29:53.942633Z",
     "end_time": "2023-11-30T20:29:59.995467Z"
    }
   }
  },
  {
   "cell_type": "code",
   "execution_count": 62,
   "outputs": [],
   "source": [
    "# 计算pageRank：\n",
    "def get_page_rank():\n",
    "    # 创建一个有向图\n",
    "    digraph = networkx.DiGraph()\n",
    "    # 在有向图中添加有向边\n",
    "    for url, url_list in url_dict.items():\n",
    "        for url2 in url_list:\n",
    "            if url2 in df.url.values:\n",
    "                digraph.add_edge(url, url2)\n",
    "    # 引入阻尼因子，利用库函数计算pagerank\n",
    "    pagerank = networkx.pagerank(digraph, alpha=0.85)\n",
    "    page_rank_df = pd.Series(pagerank, name='page_rank')\n",
    "    # 对 PageRank 进行处理，缩放并限制数值范围，避免权重过大\n",
    "    page_rank_df = page_rank_df.apply(lambda x: math.log(x * 10000, 10) + 1)\n",
    "    page_rank_df.to_csv(\"./page_rank.csv\", encoding='utf-8-sig')"
   ],
   "metadata": {
    "collapsed": false,
    "ExecuteTime": {
     "start_time": "2023-11-30T20:33:49.548007Z",
     "end_time": "2023-11-30T20:33:49.589014Z"
    }
   }
  },
  {
   "cell_type": "code",
   "execution_count": 63,
   "outputs": [],
   "source": [
    "get_page_rank()"
   ],
   "metadata": {
    "collapsed": false,
    "ExecuteTime": {
     "start_time": "2023-11-30T20:33:52.187672Z",
     "end_time": "2023-11-30T20:34:02.988486Z"
    }
   }
  },
  {
   "cell_type": "code",
   "execution_count": 8,
   "outputs": [
    {
     "data": {
      "text/plain": "                                                  url  page_rank\n1               http://news.nankai.edu.cn/index.shtml   3.643053\n2          http://news.nankai.edu.cn/ywsd/index.shtml   3.643053\n3          http://news.nankai.edu.cn/mtnk/index.shtml   3.643053\n4          http://news.nankai.edu.cn/gynk/index.shtml   3.643053\n5          http://news.nankai.edu.cn/nkrw/index.shtml   3.643053\n6         http://news.nankai.edu.cn/nkdxb/index.shtml   3.643053\n7            http://news.nankai.edu.cn/sp/index.shtml   3.643053\n8            http://news.nankai.edu.cn/gb/index.shtml   3.643053\n13  http://news.nankai.edu.cn/ywsd/system/2023/11/...   3.623492\n18  http://news.nankai.edu.cn/ywsd/system/2023/11/...   3.623492",
      "text/html": "<div>\n<style scoped>\n    .dataframe tbody tr th:only-of-type {\n        vertical-align: middle;\n    }\n\n    .dataframe tbody tr th {\n        vertical-align: top;\n    }\n\n    .dataframe thead th {\n        text-align: right;\n    }\n</style>\n<table border=\"1\" class=\"dataframe\">\n  <thead>\n    <tr style=\"text-align: right;\">\n      <th></th>\n      <th>url</th>\n      <th>page_rank</th>\n    </tr>\n  </thead>\n  <tbody>\n    <tr>\n      <th>1</th>\n      <td>http://news.nankai.edu.cn/index.shtml</td>\n      <td>3.643053</td>\n    </tr>\n    <tr>\n      <th>2</th>\n      <td>http://news.nankai.edu.cn/ywsd/index.shtml</td>\n      <td>3.643053</td>\n    </tr>\n    <tr>\n      <th>3</th>\n      <td>http://news.nankai.edu.cn/mtnk/index.shtml</td>\n      <td>3.643053</td>\n    </tr>\n    <tr>\n      <th>4</th>\n      <td>http://news.nankai.edu.cn/gynk/index.shtml</td>\n      <td>3.643053</td>\n    </tr>\n    <tr>\n      <th>5</th>\n      <td>http://news.nankai.edu.cn/nkrw/index.shtml</td>\n      <td>3.643053</td>\n    </tr>\n    <tr>\n      <th>6</th>\n      <td>http://news.nankai.edu.cn/nkdxb/index.shtml</td>\n      <td>3.643053</td>\n    </tr>\n    <tr>\n      <th>7</th>\n      <td>http://news.nankai.edu.cn/sp/index.shtml</td>\n      <td>3.643053</td>\n    </tr>\n    <tr>\n      <th>8</th>\n      <td>http://news.nankai.edu.cn/gb/index.shtml</td>\n      <td>3.643053</td>\n    </tr>\n    <tr>\n      <th>13</th>\n      <td>http://news.nankai.edu.cn/ywsd/system/2023/11/...</td>\n      <td>3.623492</td>\n    </tr>\n    <tr>\n      <th>18</th>\n      <td>http://news.nankai.edu.cn/ywsd/system/2023/11/...</td>\n      <td>3.623492</td>\n    </tr>\n  </tbody>\n</table>\n</div>"
     },
     "execution_count": 8,
     "metadata": {},
     "output_type": "execute_result"
    }
   ],
   "source": [
    "# 查看排名靠前的一些网页：\n",
    "page_rank = pd.read_csv(\"page_rank.csv\",encoding='utf-8')\n",
    "page_rank.sort_values(by='page_rank',ascending=False).head(10)"
   ],
   "metadata": {
    "collapsed": false,
    "ExecuteTime": {
     "start_time": "2023-12-01T19:43:59.615046Z",
     "end_time": "2023-12-01T19:43:59.642142Z"
    }
   }
  },
  {
   "cell_type": "code",
   "execution_count": null,
   "outputs": [],
   "source": [],
   "metadata": {
    "collapsed": false
   }
  }
 ],
 "metadata": {
  "kernelspec": {
   "display_name": "Python 3",
   "language": "python",
   "name": "python3"
  },
  "language_info": {
   "codemirror_mode": {
    "name": "ipython",
    "version": 2
   },
   "file_extension": ".py",
   "mimetype": "text/x-python",
   "name": "python",
   "nbconvert_exporter": "python",
   "pygments_lexer": "ipython2",
   "version": "2.7.6"
  }
 },
 "nbformat": 4,
 "nbformat_minor": 0
}
