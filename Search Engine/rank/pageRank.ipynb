{
 "cells": [
  {
   "cell_type": "code",
   "execution_count": 61,
   "metadata": {
    "collapsed": true,
    "ExecuteTime": {
     "start_time": "2023-11-30T20:33:47.612313Z",
     "end_time": "2023-11-30T20:33:47.640308Z"
    }
   },
   "outputs": [],
   "source": [
    "import pandas as pd\n",
    "import math\n",
    "import networkx\n",
    "import os\n",
    "from parsel import Selector"
   ]
  },
  {
   "cell_type": "code",
   "execution_count": 21,
   "outputs": [],
   "source": [
    "df = pd.read_csv(\"../spider/data.csv\",encoding='utf-8',index_col=\"title\")\n",
    "path = \"../spider/htmls\"\n",
    "files = os.listdir(path)"
   ],
   "metadata": {
    "collapsed": false,
    "ExecuteTime": {
     "start_time": "2023-11-30T20:11:07.249231Z",
     "end_time": "2023-11-30T20:11:07.309352Z"
    }
   }
  },
  {
   "cell_type": "code",
   "execution_count": 50,
   "outputs": [],
   "source": [
    "# 存储一个网页链接到一个列表的映射，列表中的元素为链接对应HTML文档中可以跳转到的链接\n",
    "url_dict = {}"
   ],
   "metadata": {
    "collapsed": false,
    "ExecuteTime": {
     "start_time": "2023-11-30T20:29:11.624444Z",
     "end_time": "2023-11-30T20:29:11.668542Z"
    }
   }
  },
  {
   "cell_type": "code",
   "execution_count": 53,
   "outputs": [],
   "source": [
    "for file in files:\n",
    "    title = str(file).split(\".html\")[0]\n",
    "    url = df.loc[title].url\n",
    "    with open(os.path.join(path,file),'r',encoding='utf-8-sig') as f :\n",
    "        text = f.read()\n",
    "        selector = Selector(text)\n",
    "        url_list = []\n",
    "        url_list.extend(selector.css('a::attr(href)').getall())\n",
    "        url_dict[url] = url_list"
   ],
   "metadata": {
    "collapsed": false,
    "ExecuteTime": {
     "start_time": "2023-11-30T20:29:53.942633Z",
     "end_time": "2023-11-30T20:29:59.995467Z"
    }
   }
  },
  {
   "cell_type": "code",
   "execution_count": 62,
   "outputs": [],
   "source": [
    "# 计算pageRank：\n",
    "def get_page_rank():\n",
    "    digraph = networkx.DiGraph()\n",
    "    for url, url_list in url_dict.items():\n",
    "        for _url in url_list:\n",
    "            if _url in df.url.values:\n",
    "                digraph.add_edge(url, _url)\n",
    "    result = networkx.pagerank(digraph, alpha=0.85)\n",
    "    page_rank_df = pd.Series(result, name='page_rank')\n",
    "    page_rank_df = page_rank_df.apply(lambda x: math.log(x * 10000, 10) + 1)  # 将page_rank列所有数值*10000后，取10的对数，再+1保证数值大于1（用于缩小PageRank极差，避免权重过大）\n",
    "    page_rank_df.index.name = 'url'\n",
    "    page_rank_df.to_csv(\"./page_rank.csv\", encoding='utf-8-sig')"
   ],
   "metadata": {
    "collapsed": false,
    "ExecuteTime": {
     "start_time": "2023-11-30T20:33:49.548007Z",
     "end_time": "2023-11-30T20:33:49.589014Z"
    }
   }
  },
  {
   "cell_type": "code",
   "execution_count": 63,
   "outputs": [],
   "source": [
    "get_page_rank()"
   ],
   "metadata": {
    "collapsed": false,
    "ExecuteTime": {
     "start_time": "2023-11-30T20:33:52.187672Z",
     "end_time": "2023-11-30T20:34:02.988486Z"
    }
   }
  },
  {
   "cell_type": "code",
   "execution_count": null,
   "outputs": [],
   "source": [],
   "metadata": {
    "collapsed": false
   }
  }
 ],
 "metadata": {
  "kernelspec": {
   "display_name": "Python 3",
   "language": "python",
   "name": "python3"
  },
  "language_info": {
   "codemirror_mode": {
    "name": "ipython",
    "version": 2
   },
   "file_extension": ".py",
   "mimetype": "text/x-python",
   "name": "python",
   "nbconvert_exporter": "python",
   "pygments_lexer": "ipython2",
   "version": "2.7.6"
  }
 },
 "nbformat": 4,
 "nbformat_minor": 0
}
