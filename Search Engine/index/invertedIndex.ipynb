{
 "cells": [
  {
   "cell_type": "code",
   "execution_count": 1,
   "outputs": [],
   "source": [
    "import pandas as pd\n",
    "import numpy as np\n",
    "import os\n",
    "import json"
   ],
   "metadata": {
    "collapsed": false,
    "ExecuteTime": {
     "start_time": "2023-12-03T10:50:17.708046Z",
     "end_time": "2023-12-03T10:50:18.334628Z"
    }
   }
  },
  {
   "cell_type": "code",
   "execution_count": 2,
   "outputs": [],
   "source": [
    "data = pd.read_csv(\"cutted.csv\", encoding='utf-8-sig',index_col='url')"
   ],
   "metadata": {
    "collapsed": false,
    "ExecuteTime": {
     "start_time": "2023-12-03T10:50:19.900583Z",
     "end_time": "2023-12-03T10:50:20.343768Z"
    }
   }
  },
  {
   "cell_type": "code",
   "execution_count": 13,
   "outputs": [],
   "source": [
    "# 创建目录，存储倒排索引文件\n",
    "os.mkdir(\"./jsons\")"
   ],
   "metadata": {
    "collapsed": false,
    "ExecuteTime": {
     "start_time": "2023-11-30T18:16:19.125939Z",
     "end_time": "2023-11-30T18:16:19.157507Z"
    }
   }
  },
  {
   "cell_type": "code",
   "execution_count": 6,
   "outputs": [],
   "source": [
    "# 读取停用词表\n",
    "stopWords = []\n",
    "with open(\"stopwords.txt\",'r',encoding='utf-8') as f:\n",
    "    words = f.read().splitlines()\n",
    "stopWords.extend(words)"
   ],
   "metadata": {
    "collapsed": false,
    "ExecuteTime": {
     "start_time": "2023-12-03T10:50:57.911557Z",
     "end_time": "2023-12-03T10:50:57.956039Z"
    }
   }
  },
  {
   "cell_type": "code",
   "execution_count": 7,
   "outputs": [],
   "source": [
    "# 为每个HTML文档计算词频，用于后续构建倒排索引\n",
    "def calculateTFInHTML(data=data,title_only=False):\n",
    "    # 要返回的“正向”索引词典，映射关系为：url->{}，而作为value的词典是一个词项到词频的映射\n",
    "    index = {}\n",
    "    # 遍历data的每一行，遍历标题，内容等信息，计算词频\n",
    "    for url,info in data.iterrows():\n",
    "        index[url] = {}\n",
    "        for word in info.title.split(\" \"):\n",
    "            # 不在停用词列表中的才计数\n",
    "            if word not in stopWords:\n",
    "                if word not in index[url]:\n",
    "                    index[url][word] = 1\n",
    "                else:\n",
    "                    index[url][word] += 1\n",
    "        if title_only == False:\n",
    "            for word in str(info.description).split(\" \"):\n",
    "                if word not in stopWords:\n",
    "                    if word not in index[url]:\n",
    "                        index[url][word] = 1\n",
    "                    else:\n",
    "                        index[url][word] += 1\n",
    "            for word in str(info.content).split(\" \"):\n",
    "                if word not in stopWords:\n",
    "                    if word not in index[url]:\n",
    "                        index[url][word] = 1\n",
    "                    else:\n",
    "                        index[url][word] += 1\n",
    "            for word in str(info.editor).split(\" \"):\n",
    "                if word not in stopWords:\n",
    "                    if word not in index[url]:\n",
    "                        index[url][word] = 1\n",
    "                    else:\n",
    "                        index[url][word] += 1\n",
    "    return index"
   ],
   "metadata": {
    "collapsed": false,
    "ExecuteTime": {
     "start_time": "2023-12-03T10:51:03.316588Z",
     "end_time": "2023-12-03T10:51:03.359606Z"
    }
   }
  },
  {
   "cell_type": "code",
   "execution_count": 8,
   "outputs": [],
   "source": [
    "index = calculateTFInHTML()"
   ],
   "metadata": {
    "collapsed": false,
    "ExecuteTime": {
     "start_time": "2023-12-03T10:51:06.770689Z",
     "end_time": "2023-12-03T10:51:51.020051Z"
    }
   }
  },
  {
   "cell_type": "code",
   "execution_count": 9,
   "outputs": [],
   "source": [
    "index_only_title = calculateTFInHTML(data,True)"
   ],
   "metadata": {
    "collapsed": false,
    "ExecuteTime": {
     "start_time": "2023-12-03T10:52:20.279448Z",
     "end_time": "2023-12-03T10:52:22.062640Z"
    }
   }
  },
  {
   "cell_type": "code",
   "execution_count": 10,
   "outputs": [],
   "source": [
    "# 倒排索引构建：\n",
    "def gen_inverted_index(index):\n",
    "    inverted_index = {}\n",
    "    # 遍历原始索引中的每个URL和对应的词汇及频率信息\n",
    "    for url, words in index.items():\n",
    "        # 遍历每个URL对应的词汇及其频率信息\n",
    "        for word, frequency in words.items():\n",
    "            # 如果当前词汇不在倒排索引中，就创建一个空字典作为该词的索引项\n",
    "            if word not in inverted_index:\n",
    "                inverted_index[word] = {}\n",
    "                inverted_index[word][url] = frequency\n",
    "            else:\n",
    "                inverted_index[word][url] = frequency\n",
    "    return inverted_index"
   ],
   "metadata": {
    "collapsed": false,
    "ExecuteTime": {
     "start_time": "2023-12-03T10:52:25.481246Z",
     "end_time": "2023-12-03T10:52:25.521412Z"
    }
   }
  },
  {
   "cell_type": "code",
   "execution_count": 11,
   "outputs": [],
   "source": [
    "inverted_index = gen_inverted_index(index)"
   ],
   "metadata": {
    "collapsed": false,
    "ExecuteTime": {
     "start_time": "2023-12-03T10:52:29.320488Z",
     "end_time": "2023-12-03T10:52:30.392735Z"
    }
   }
  },
  {
   "cell_type": "code",
   "execution_count": 12,
   "outputs": [],
   "source": [
    "inverted_index_only_title = gen_inverted_index(index_only_title)"
   ],
   "metadata": {
    "collapsed": false,
    "ExecuteTime": {
     "start_time": "2023-12-03T10:52:31.815759Z",
     "end_time": "2023-12-03T10:52:31.859750Z"
    }
   }
  },
  {
   "cell_type": "code",
   "execution_count": 13,
   "outputs": [],
   "source": [
    "# 计算TF：\n",
    "def get_TF(index):\n",
    "    tf = {}\n",
    "    for url, words in index.items():\n",
    "        temp_dict = {}\n",
    "        for word, frequency in words.items():\n",
    "            if word not in temp_dict:\n",
    "                temp_dict[word] = 1\n",
    "            else:\n",
    "                temp_dict[word] += 1\n",
    "        tf[url] = temp_dict\n",
    "    return tf"
   ],
   "metadata": {
    "collapsed": false,
    "ExecuteTime": {
     "start_time": "2023-12-03T10:52:34.122118Z",
     "end_time": "2023-12-03T10:52:34.163126Z"
    }
   }
  },
  {
   "cell_type": "code",
   "execution_count": 17,
   "outputs": [],
   "source": [
    "tf = get_TF(index)"
   ],
   "metadata": {
    "collapsed": false,
    "ExecuteTime": {
     "start_time": "2023-12-03T10:54:43.072000Z",
     "end_time": "2023-12-03T10:54:43.244498Z"
    }
   }
  },
  {
   "cell_type": "code",
   "execution_count": 18,
   "outputs": [],
   "source": [
    "tf_only_title = get_TF(index_only_title)"
   ],
   "metadata": {
    "collapsed": false,
    "ExecuteTime": {
     "start_time": "2023-12-03T10:55:07.480985Z",
     "end_time": "2023-12-03T10:55:07.508166Z"
    }
   }
  },
  {
   "cell_type": "code",
   "execution_count": 19,
   "outputs": [],
   "source": [
    "# 计算IDF：\n",
    "def get_IDF(index):\n",
    "    idf = {}\n",
    "    for url, frequency_dict in index.items():\n",
    "        for word, frequency in frequency_dict.items():\n",
    "            idf[word] = np.log(len(index) / frequency)\n",
    "    return idf"
   ],
   "metadata": {
    "collapsed": false,
    "ExecuteTime": {
     "start_time": "2023-12-03T10:55:11.867114Z",
     "end_time": "2023-12-03T10:55:11.901293Z"
    }
   }
  },
  {
   "cell_type": "code",
   "execution_count": 26,
   "outputs": [],
   "source": [
    "IDF = get_IDF(index)"
   ],
   "metadata": {
    "collapsed": false,
    "ExecuteTime": {
     "start_time": "2023-12-03T10:59:23.618707Z",
     "end_time": "2023-12-03T10:59:25.594752Z"
    }
   }
  },
  {
   "cell_type": "code",
   "execution_count": 21,
   "outputs": [],
   "source": [
    "IDF_only_title = get_IDF(index_only_title)"
   ],
   "metadata": {
    "collapsed": false,
    "ExecuteTime": {
     "start_time": "2023-12-03T10:55:15.143538Z",
     "end_time": "2023-12-03T10:55:15.228229Z"
    }
   }
  },
  {
   "cell_type": "code",
   "execution_count": 88,
   "outputs": [],
   "source": [
    "# 计算tf-idf值：\n",
    "def get_TF_IDF(index,IDF):\n",
    "    tf_idf = {}\n",
    "    for url, words in index.items():\n",
    "        dict = {}\n",
    "        for word, frequency in words.items():\n",
    "            dict[word] = frequency * IDF[word]\n",
    "        tf_idf[url] = dict\n",
    "    return tf_idf"
   ],
   "metadata": {
    "collapsed": false,
    "ExecuteTime": {
     "start_time": "2023-11-30T19:27:02.515084Z",
     "end_time": "2023-11-30T19:27:02.536665Z"
    }
   }
  },
  {
   "cell_type": "code",
   "execution_count": 90,
   "outputs": [],
   "source": [
    "TF_IDF = get_TF_IDF(index,IDF)"
   ],
   "metadata": {
    "collapsed": false,
    "ExecuteTime": {
     "start_time": "2023-11-30T19:28:17.138500Z",
     "end_time": "2023-11-30T19:28:17.633007Z"
    }
   }
  },
  {
   "cell_type": "code",
   "execution_count": 91,
   "outputs": [],
   "source": [
    "TF_IDF_only_title = get_TF_IDF(index_only_title,IDF_only_title)"
   ],
   "metadata": {
    "collapsed": false,
    "ExecuteTime": {
     "start_time": "2023-11-30T19:28:30.936059Z",
     "end_time": "2023-11-30T19:28:31.136617Z"
    }
   }
  },
  {
   "cell_type": "code",
   "execution_count": 92,
   "outputs": [],
   "source": [
    "# 保存各个文档的TF-IDF值\n",
    "with open('./jsons/tf-idf.json', 'w', encoding='utf-8') as f:\n",
    "    json.dump(TF_IDF, f, ensure_ascii=False)\n",
    "with open('./jsons/tf-idf_title.json', 'w', encoding='utf-8') as f:\n",
    "    json.dump(TF_IDF_only_title, f, ensure_ascii=False)"
   ],
   "metadata": {
    "collapsed": false,
    "ExecuteTime": {
     "start_time": "2023-11-30T19:30:06.325515Z",
     "end_time": "2023-11-30T19:30:10.300998Z"
    }
   }
  },
  {
   "cell_type": "code",
   "execution_count": 22,
   "outputs": [],
   "source": [
    "with open(\"./jsons/tf.json\",'w',encoding='utf-8') as f:\n",
    "    json.dump(tf,f,ensure_ascii=False)\n",
    "with open(\"./jsons/tf_title.json\",'w',encoding='utf-8') as f:\n",
    "    json.dump(tf_only_title,f,ensure_ascii=False)"
   ],
   "metadata": {
    "collapsed": false,
    "ExecuteTime": {
     "start_time": "2023-12-03T10:56:26.207673Z",
     "end_time": "2023-12-03T10:56:28.570437Z"
    }
   }
  },
  {
   "cell_type": "code",
   "execution_count": 23,
   "outputs": [],
   "source": [
    "with open(\"./jsons/idf.json\",'w',encoding='utf-8') as f:\n",
    "    json.dump(IDF,f,ensure_ascii=False)\n",
    "with open(\"./jsons/idf_title.json\",'w',encoding='utf-8') as f:\n",
    "    json.dump(IDF_only_title,f,ensure_ascii=False)"
   ],
   "metadata": {
    "collapsed": false,
    "ExecuteTime": {
     "start_time": "2023-12-03T10:57:55.515534Z",
     "end_time": "2023-12-03T10:57:55.767601Z"
    }
   }
  },
  {
   "cell_type": "code",
   "execution_count": 102,
   "outputs": [],
   "source": [
    "# 保存倒排索引为json格式，便于前端使用\n",
    "with open('./jsons/invert_index.json', 'w', encoding='utf-8') as f:\n",
    "    json.dump(inverted_index, f, ensure_ascii=False)\n",
    "with open('./jsons/invert_index_title.json', 'w', encoding='utf-8') as f:\n",
    "    json.dump(inverted_index_only_title, f, ensure_ascii=False)"
   ],
   "metadata": {
    "collapsed": false,
    "ExecuteTime": {
     "start_time": "2023-11-30T19:38:00.715763Z",
     "end_time": "2023-11-30T19:38:03.337471Z"
    }
   }
  },
  {
   "cell_type": "code",
   "execution_count": 27,
   "outputs": [],
   "source": [
    "# 下面计算一下HTML库中所有非停用词的词频，方便推荐系统实现以及词云功能实现：\n",
    "def getAllTF(index):\n",
    "    word_frequency = {}\n",
    "    for url, words in index.items():\n",
    "        for word, frequency in words.items():\n",
    "            if word not in word_frequency:\n",
    "                word_frequency[word] = 1\n",
    "            else:\n",
    "                word_frequency[word] += 1\n",
    "    return word_frequency"
   ],
   "metadata": {
    "collapsed": false,
    "ExecuteTime": {
     "start_time": "2023-12-03T11:09:05.984711Z",
     "end_time": "2023-12-03T11:09:06.034492Z"
    }
   }
  },
  {
   "cell_type": "code",
   "execution_count": 108,
   "outputs": [],
   "source": [
    "with open('./jsons/allTF.json', 'w', encoding='utf-8') as f:\n",
    "    json.dump(getAllTF(index), f, ensure_ascii=False)"
   ],
   "metadata": {
    "collapsed": false,
    "ExecuteTime": {
     "start_time": "2023-11-30T19:44:08.072916Z",
     "end_time": "2023-11-30T19:44:08.610481Z"
    }
   }
  },
  {
   "cell_type": "code",
   "execution_count": 28,
   "outputs": [],
   "source": [
    "with open('./jsons/allTF_title.json', 'w', encoding='utf-8') as f:\n",
    "    json.dump(getAllTF(index_only_title), f, ensure_ascii=False)"
   ],
   "metadata": {
    "collapsed": false,
    "ExecuteTime": {
     "start_time": "2023-12-03T11:09:07.248341Z",
     "end_time": "2023-12-03T11:09:07.304420Z"
    }
   }
  },
  {
   "cell_type": "markdown",
   "source": [
    "下面是一些结果展示："
   ],
   "metadata": {
    "collapsed": false
   }
  },
  {
   "cell_type": "code",
   "execution_count": 3,
   "outputs": [
    {
     "data": {
      "text/plain": "288"
     },
     "execution_count": 3,
     "metadata": {},
     "output_type": "execute_result"
    }
   ],
   "source": [
    "with open('jsons/invert_index.json', 'r', encoding='utf-8') as file:\n",
    "    data_dict = json.load(file)\n",
    "len(data_dict['计算机'])"
   ],
   "metadata": {
    "collapsed": false,
    "ExecuteTime": {
     "start_time": "2023-12-01T16:44:28.615639Z",
     "end_time": "2023-12-01T16:44:29.830397Z"
    }
   }
  },
  {
   "cell_type": "code",
   "execution_count": 9,
   "outputs": [
    {
     "data": {
      "text/plain": "{'亿': 8.638348312972704,\n '校友': 32.79453385646435,\n '献礼': 8.638348312972704,\n '南开': 116.91539160050938,\n '化学': 181.4053145724268,\n '学科': 127.12321811860414,\n '百年': 21.086731201615812,\n '开大': 72.52053951852814,\n '大学': 72.14797448422156,\n '南开大学': 72.52053951852814,\n '记者': 15.890402264825518,\n '蓝芳': 25.915044938918115,\n '摄影': 15.890402264825518,\n '宗': 15.890402264825518,\n '琪琪': 15.890402264825518,\n '在': 52.47125417034295,\n '建校': 15.890402264825518,\n '周年': 33.46219081958696,\n '创建': 23.835603397238277,\n '之际': 17.27669662594541,\n '为': 30.15894409721838,\n '助力': 17.27669662594541,\n '更好': 17.27669662594541,\n '更': 25.915044938918115,\n '快': 17.27669662594541,\n '发展': 63.56160905930207,\n '学系': 17.27669662594541,\n '化学系': 17.27669662594541,\n '赵国': 15.890402264825518,\n '锋': 15.890402264825518,\n '阚颖': 15.890402264825518,\n '郑保富': 17.27669662594541,\n '共同': 25.915044938918115,\n '支持': 30.15894409721838,\n '亿元': 17.27669662594541,\n '发起': 17.27669662594541,\n '设立': 17.27669662594541,\n '基金': 25.915044938918115,\n '用于': 15.890402264825518,\n '人才': 17.27669662594541,\n '引进': 15.07947204860919,\n '与': 63.56160905930207,\n '培养': 17.27669662594541,\n '科技': 29.008215807411258,\n '创新': 31.780804529651036,\n '科研': 15.890402264825518,\n '研成': 17.27669662594541,\n '成果': 34.55339325189082,\n '科研成果': 17.27669662594541,\n '合作': 17.27669662594541,\n '转化': 17.27669662594541,\n '等': 15.07947204860919,\n '方面': 15.07947204860919,\n '工作': 21.756161855558442,\n '加速': 17.27669662594541,\n '推进': 17.27669662594541,\n '化': 7.945201132412759,\n '一流': 21.756161855558442,\n '建设': 17.27669662594541,\n '学科建设': 17.27669662594541,\n '进程': 8.638348312972704,\n '月': 23.835603397238277,\n '日': 15.890402264825518,\n '年纪': 7.539736024304595,\n '纪念': 7.945201132412759,\n '周年纪念': 7.539736024304595,\n '大会': 7.028910400538604,\n '现场': 8.638348312972704,\n '校长': 17.27669662594541,\n '曹雪涛': 7.028910400538604,\n '副校长': 8.638348312972704,\n '陈军': 8.638348312972704,\n '学院': 14.504107903705629,\n '周其林': 15.890402264825518,\n '院士': 25.915044938918115,\n '三位': 8.638348312972704,\n '启动': 7.945201132412759,\n '长期': 8.638348312972704,\n '以来': 8.638348312972704,\n '始终': 8.638348312972704,\n '祖国': 8.638348312972704,\n '同命': 8.638348312972704,\n '命运': 8.638348312972704,\n '同命运': 8.638348312972704,\n '共': 8.638348312972704,\n '成长': 8.638348312972704,\n '中国': 13.117813542585738,\n '科教': 8.638348312972704,\n '事业': 8.638348312972704,\n '做出': 8.638348312972704,\n '重要': 8.638348312972704,\n '贡献': 7.945201132412759,\n '新': 14.057820801077208,\n '成立': 6.84658884374465,\n '后': 8.638348312972704,\n '名': 7.945201132412759,\n '两院': 8.638348312972704,\n '曾': 7.539736024304595,\n '学习': 7.945201132412759,\n '荣获': 14.504107903705629,\n '国家': 51.83008987783623,\n '教学': 7.945201132412759,\n '成果奖': 7.539736024304595,\n '自然': 17.27669662594541,\n '科学': 15.890402264825518,\n '自然科': 17.27669662594541,\n '科学奖': 17.27669662594541,\n '国家自然科学奖': 17.27669662594541,\n '技术': 7.252053951852814,\n '发明': 8.638348312972704,\n '发明奖': 8.638348312972704,\n '和': 37.698680121522976,\n '进步': 8.638348312972704,\n '进步奖': 8.638348312972704,\n '国家科技进步奖': 8.638348312972704,\n '近': 8.638348312972704,\n '项': 7.539736024304595,\n '年': 17.27669662594541,\n '习近平': 7.945201132412759,\n '书记': 7.539736024304595,\n '总书记': 7.945201132412759,\n '视察': 8.638348312972704,\n '察看': 8.638348312972704,\n '元素': 7.945201132412759,\n '有机': 7.252053951852814,\n '机化': 8.638348312972704,\n '有机化学': 8.638348312972704,\n '重点': 8.638348312972704,\n '实验': 8.638348312972704,\n '实验室': 8.638348312972704,\n '强调': 8.638348312972704,\n '要': 8.638348312972704,\n '加快': 7.252053951852814,\n '一流大学': 8.638348312972704,\n '加强': 7.252053951852814,\n '基础': 8.638348312972704,\n '研究': 8.638348312972704,\n '力争': 8.638348312972704,\n '原始': 8.638348312972704,\n '自主': 8.638348312972704,\n '上出': 8.638348312972704,\n '多': 8.638348312972704,\n '勇攀': 8.638348312972704,\n '世界': 7.539736024304595,\n '高峰': 8.638348312972704,\n '的': 25.343052879914637,\n '高效': 7.945201132412759,\n '手性': 7.539736024304595,\n '螺环': 8.638348312972704,\n '催化': 8.638348312972704,\n '化剂': 7.252053951852814,\n '催化剂': 7.252053951852814,\n '发现': 7.252053951852814,\n '项目': 7.539736024304595,\n '年度': 8.638348312972704,\n '一等': 7.252053951852814,\n '一等奖': 7.252053951852814,\n '将': 8.638348312972704,\n '以': 8.638348312972704,\n '创立': 8.638348312972704,\n '契机': 8.638348312972704,\n '起点': 7.945201132412759,\n '新起点': 8.638348312972704,\n '上': 8.638348312972704,\n '凝聚': 8.638348312972704,\n '共识': 8.638348312972704,\n '不负': 8.638348312972704,\n '社会': 7.539736024304595,\n '各界': 8.638348312972704,\n '社会各界': 8.638348312972704,\n '期望': 8.638348312972704,\n '推动': 8.638348312972704,\n '蓬勃': 8.638348312972704,\n '勃发': 8.638348312972704,\n '蓬勃发展': 8.638348312972704,\n '实现': 8.638348312972704,\n '腾飞': 8.638348312972704}"
     },
     "execution_count": 9,
     "metadata": {},
     "output_type": "execute_result"
    }
   ],
   "source": [
    "with open('jsons/tf-idf.json', 'r', encoding='utf-8') as file:\n",
    "    tfidf_dict = json.load(file)\n",
    "tfidf_dict['http://news.nankai.edu.cn/ywsd/system/2021/10/17/030048360.shtml']"
   ],
   "metadata": {
    "collapsed": false,
    "ExecuteTime": {
     "start_time": "2023-12-01T19:11:26.196225Z",
     "end_time": "2023-12-01T19:11:27.670492Z"
    }
   }
  },
  {
   "cell_type": "code",
   "execution_count": null,
   "outputs": [],
   "source": [],
   "metadata": {
    "collapsed": false
   }
  }
 ],
 "metadata": {
  "kernelspec": {
   "display_name": "Python 3",
   "language": "python",
   "name": "python3"
  },
  "language_info": {
   "codemirror_mode": {
    "name": "ipython",
    "version": 2
   },
   "file_extension": ".py",
   "mimetype": "text/x-python",
   "name": "python",
   "nbconvert_exporter": "python",
   "pygments_lexer": "ipython2",
   "version": "2.7.6"
  }
 },
 "nbformat": 4,
 "nbformat_minor": 0
}
