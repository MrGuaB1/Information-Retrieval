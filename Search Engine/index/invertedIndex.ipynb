{
 "cells": [
  {
   "cell_type": "code",
   "execution_count": 8,
   "outputs": [],
   "source": [
    "import pandas as pd\n",
    "import numpy as np\n",
    "import os\n",
    "import json"
   ],
   "metadata": {
    "collapsed": false,
    "ExecuteTime": {
     "start_time": "2023-11-30T18:05:00.729255Z",
     "end_time": "2023-11-30T18:05:00.742255Z"
    }
   }
  },
  {
   "cell_type": "code",
   "execution_count": 25,
   "outputs": [],
   "source": [
    "data = pd.read_csv(\"cutted.csv\", encoding='utf-8-sig',index_col='url')"
   ],
   "metadata": {
    "collapsed": false,
    "ExecuteTime": {
     "start_time": "2023-11-30T18:30:19.269498Z",
     "end_time": "2023-11-30T18:30:19.666787Z"
    }
   }
  },
  {
   "cell_type": "code",
   "execution_count": 13,
   "outputs": [],
   "source": [
    "# 创建目录，存储倒排索引文件\n",
    "os.mkdir(\"./jsons\")"
   ],
   "metadata": {
    "collapsed": false,
    "ExecuteTime": {
     "start_time": "2023-11-30T18:16:19.125939Z",
     "end_time": "2023-11-30T18:16:19.157507Z"
    }
   }
  },
  {
   "cell_type": "code",
   "execution_count": 14,
   "outputs": [],
   "source": [
    "# 读取停用词表\n",
    "stopWords = []\n",
    "with open(\"stopwords.txt\",'r',encoding='utf-8') as f:\n",
    "    words = f.read().splitlines()\n",
    "stopWords.extend(words)"
   ],
   "metadata": {
    "collapsed": false,
    "ExecuteTime": {
     "start_time": "2023-11-30T18:19:23.285074Z",
     "end_time": "2023-11-30T18:19:23.290084Z"
    }
   }
  },
  {
   "cell_type": "code",
   "execution_count": 61,
   "outputs": [],
   "source": [
    "# 为每个HTML文档计算词频，用于后续构建倒排索引\n",
    "def calculateTFInHTML(data=data,title_only=False):\n",
    "    # 要返回的“正向”索引词典，映射关系为：url->{}\n",
    "    index = {}\n",
    "    # 遍历data的每一行，遍历标题，内容等信息，计算词频\n",
    "    for url,info in data.iterrows():\n",
    "        index[url] = {}\n",
    "        for word in info.title.split(\" \"):\n",
    "            # 不在停用词列表中的才计数\n",
    "            if word not in stopWords:\n",
    "                if word not in index[url]:\n",
    "                    index[url][word] = 1\n",
    "                else:\n",
    "                    index[url][word] += 1\n",
    "        if title_only == False:\n",
    "            for word in str(info.description).split(\" \"):\n",
    "                if word not in stopWords:\n",
    "                    if word not in index[url]:\n",
    "                        index[url][word] = 1\n",
    "                    else:\n",
    "                        index[url][word] += 1\n",
    "            for word in str(info.content).split(\" \"):\n",
    "                if word not in stopWords:\n",
    "                    if word not in index[url]:\n",
    "                        index[url][word] = 1\n",
    "                    else:\n",
    "                        index[url][word] += 1\n",
    "            for word in str(info.editor).split(\" \"):\n",
    "                if word not in stopWords:\n",
    "                    if word not in index[url]:\n",
    "                        index[url][word] = 1\n",
    "                    else:\n",
    "                        index[url][word] += 1\n",
    "    return index"
   ],
   "metadata": {
    "collapsed": false,
    "ExecuteTime": {
     "start_time": "2023-11-30T19:03:24.391238Z",
     "end_time": "2023-11-30T19:03:24.425239Z"
    }
   }
  },
  {
   "cell_type": "code",
   "execution_count": 62,
   "outputs": [],
   "source": [
    "index = calculateTFInHTML()"
   ],
   "metadata": {
    "collapsed": false,
    "ExecuteTime": {
     "start_time": "2023-11-30T19:03:34.685137Z",
     "end_time": "2023-11-30T19:04:19.637241Z"
    }
   }
  },
  {
   "cell_type": "code",
   "execution_count": 64,
   "outputs": [],
   "source": [
    "index_only_title = calculateTFInHTML(data,True)"
   ],
   "metadata": {
    "collapsed": false,
    "ExecuteTime": {
     "start_time": "2023-11-30T19:04:28.648576Z",
     "end_time": "2023-11-30T19:04:30.309453Z"
    }
   }
  },
  {
   "cell_type": "code",
   "execution_count": 97,
   "outputs": [],
   "source": [
    "# 倒排索引构建：\n",
    "def gen_inverted_index(index):\n",
    "    inverted_index = {}\n",
    "    # 遍历原始索引中的每个URL和对应的词汇及频率信息\n",
    "    for url, words in index.items():\n",
    "        # 遍历每个URL对应的词汇及其频率信息\n",
    "        for word, frequency in words.items():\n",
    "            # 如果当前词汇不在倒排索引中，就创建一个空字典作为该词的索引项\n",
    "            if word not in inverted_index:\n",
    "                inverted_index[word] = {}\n",
    "                inverted_index[word][url] = frequency\n",
    "            else:\n",
    "                inverted_index[word][url] = frequency\n",
    "    return inverted_index"
   ],
   "metadata": {
    "collapsed": false,
    "ExecuteTime": {
     "start_time": "2023-11-30T19:35:12.016099Z",
     "end_time": "2023-11-30T19:35:12.045353Z"
    }
   }
  },
  {
   "cell_type": "code",
   "execution_count": 98,
   "outputs": [],
   "source": [
    "inverted_index = gen_inverted_index(index)"
   ],
   "metadata": {
    "collapsed": false,
    "ExecuteTime": {
     "start_time": "2023-11-30T19:35:25.313395Z",
     "end_time": "2023-11-30T19:35:26.128671Z"
    }
   }
  },
  {
   "cell_type": "code",
   "execution_count": 101,
   "outputs": [],
   "source": [
    "inverted_index_only_title = gen_inverted_index(index_only_title)"
   ],
   "metadata": {
    "collapsed": false,
    "ExecuteTime": {
     "start_time": "2023-11-30T19:36:30.483218Z",
     "end_time": "2023-11-30T19:36:30.522218Z"
    }
   }
  },
  {
   "cell_type": "code",
   "execution_count": 76,
   "outputs": [],
   "source": [
    "# 计算TF：\n",
    "def get_TF(index):\n",
    "    tf = {}\n",
    "    for url, words in index.items():\n",
    "        temp_dict = {}\n",
    "        for word, frequency in words.items():\n",
    "            if word not in temp_dict:\n",
    "                temp_dict[word] = 1\n",
    "            else:\n",
    "                temp_dict[word] += 1\n",
    "        tf[url] = temp_dict\n",
    "    return tf"
   ],
   "metadata": {
    "collapsed": false,
    "ExecuteTime": {
     "start_time": "2023-11-30T19:23:06.981634Z",
     "end_time": "2023-11-30T19:23:07.003144Z"
    }
   }
  },
  {
   "cell_type": "code",
   "execution_count": 80,
   "outputs": [],
   "source": [
    "# 计算IDF：\n",
    "def get_IDF(index):\n",
    "    idf = {}\n",
    "    for url, frequency_dict in index.items():\n",
    "        for word, frequency in frequency_dict.items():\n",
    "            idf[word] = np.log(len(index) / frequency)\n",
    "    return idf"
   ],
   "metadata": {
    "collapsed": false,
    "ExecuteTime": {
     "start_time": "2023-11-30T19:25:47.584864Z",
     "end_time": "2023-11-30T19:25:47.614114Z"
    }
   }
  },
  {
   "cell_type": "code",
   "execution_count": 85,
   "outputs": [],
   "source": [
    "IDF = get_IDF(index)"
   ],
   "metadata": {
    "collapsed": false,
    "ExecuteTime": {
     "start_time": "2023-11-30T19:26:33.284529Z",
     "end_time": "2023-11-30T19:26:34.930000Z"
    }
   }
  },
  {
   "cell_type": "code",
   "execution_count": 84,
   "outputs": [],
   "source": [
    "IDF_only_title = get_IDF(index_only_title)"
   ],
   "metadata": {
    "collapsed": false,
    "ExecuteTime": {
     "start_time": "2023-11-30T19:26:13.955154Z",
     "end_time": "2023-11-30T19:26:14.042850Z"
    }
   }
  },
  {
   "cell_type": "code",
   "execution_count": 88,
   "outputs": [],
   "source": [
    "# 计算tf-idf值：\n",
    "def get_TF_IDF(index,IDF):\n",
    "    tf_idf = {}\n",
    "    for url, words in index.items():\n",
    "        temp_dict = {}\n",
    "        for word, frequency in words.items():\n",
    "            temp_dict[word] = frequency * IDF[word]\n",
    "        tf_idf[url] = temp_dict\n",
    "    return tf_idf"
   ],
   "metadata": {
    "collapsed": false,
    "ExecuteTime": {
     "start_time": "2023-11-30T19:27:02.515084Z",
     "end_time": "2023-11-30T19:27:02.536665Z"
    }
   }
  },
  {
   "cell_type": "code",
   "execution_count": 90,
   "outputs": [],
   "source": [
    "TF_IDF = get_TF_IDF(index,IDF)"
   ],
   "metadata": {
    "collapsed": false,
    "ExecuteTime": {
     "start_time": "2023-11-30T19:28:17.138500Z",
     "end_time": "2023-11-30T19:28:17.633007Z"
    }
   }
  },
  {
   "cell_type": "code",
   "execution_count": 91,
   "outputs": [],
   "source": [
    "TF_IDF_only_title = get_TF_IDF(index_only_title,IDF_only_title)"
   ],
   "metadata": {
    "collapsed": false,
    "ExecuteTime": {
     "start_time": "2023-11-30T19:28:30.936059Z",
     "end_time": "2023-11-30T19:28:31.136617Z"
    }
   }
  },
  {
   "cell_type": "code",
   "execution_count": 92,
   "outputs": [],
   "source": [
    "# 保存各个文档的TF-IDF值\n",
    "with open('./jsons/tf-idf.json', 'w', encoding='utf-8') as f:\n",
    "    json.dump(TF_IDF, f, ensure_ascii=False)\n",
    "with open('./jsons/tf-idf_title.json', 'w', encoding='utf-8') as f:\n",
    "    json.dump(TF_IDF_only_title, f, ensure_ascii=False)"
   ],
   "metadata": {
    "collapsed": false,
    "ExecuteTime": {
     "start_time": "2023-11-30T19:30:06.325515Z",
     "end_time": "2023-11-30T19:30:10.300998Z"
    }
   }
  },
  {
   "cell_type": "code",
   "execution_count": 102,
   "outputs": [],
   "source": [
    "# 保存倒排索引为json格式，便于前端使用\n",
    "with open('./jsons/invert_index.json', 'w', encoding='utf-8') as f:\n",
    "    json.dump(inverted_index, f, ensure_ascii=False)\n",
    "with open('./jsons/invert_index_title.json', 'w', encoding='utf-8') as f:\n",
    "    json.dump(inverted_index_only_title, f, ensure_ascii=False)"
   ],
   "metadata": {
    "collapsed": false,
    "ExecuteTime": {
     "start_time": "2023-11-30T19:38:00.715763Z",
     "end_time": "2023-11-30T19:38:03.337471Z"
    }
   }
  },
  {
   "cell_type": "code",
   "execution_count": 107,
   "outputs": [],
   "source": [
    "# 下面计算一下HTML库中所有非停用词的词频，方便推荐系统实现以及词云功能实现：\n",
    "def getAllTF(index):\n",
    "    word_frequency = {}\n",
    "    for url, words in index.items():\n",
    "        for word, frequency in words.items():\n",
    "            if word not in word_frequency:\n",
    "                word_frequency[word] = 1\n",
    "            else:\n",
    "                word_frequency[word] += 1\n",
    "    return word_frequency"
   ],
   "metadata": {
    "collapsed": false,
    "ExecuteTime": {
     "start_time": "2023-11-30T19:44:07.613648Z",
     "end_time": "2023-11-30T19:44:07.633618Z"
    }
   }
  },
  {
   "cell_type": "code",
   "execution_count": 108,
   "outputs": [],
   "source": [
    "with open('./jsons/allTF.json', 'w', encoding='utf-8') as f:\n",
    "    json.dump(getAllTF(index), f, ensure_ascii=False)"
   ],
   "metadata": {
    "collapsed": false,
    "ExecuteTime": {
     "start_time": "2023-11-30T19:44:08.072916Z",
     "end_time": "2023-11-30T19:44:08.610481Z"
    }
   }
  },
  {
   "cell_type": "code",
   "execution_count": null,
   "outputs": [],
   "source": [],
   "metadata": {
    "collapsed": false
   }
  }
 ],
 "metadata": {
  "kernelspec": {
   "display_name": "Python 3",
   "language": "python",
   "name": "python3"
  },
  "language_info": {
   "codemirror_mode": {
    "name": "ipython",
    "version": 2
   },
   "file_extension": ".py",
   "mimetype": "text/x-python",
   "name": "python",
   "nbconvert_exporter": "python",
   "pygments_lexer": "ipython2",
   "version": "2.7.6"
  }
 },
 "nbformat": 4,
 "nbformat_minor": 0
}
