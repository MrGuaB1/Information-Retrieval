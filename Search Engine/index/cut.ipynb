{
 "cells": [
  {
   "cell_type": "code",
   "execution_count": 1,
   "metadata": {
    "collapsed": true,
    "ExecuteTime": {
     "start_time": "2023-11-30T16:17:46.623934Z",
     "end_time": "2023-11-30T16:17:48.721068Z"
    }
   },
   "outputs": [],
   "source": [
    "import pandas as pd\n",
    "import numpy as np\n",
    "import re\n",
    "from jieba import cut_for_search"
   ]
  },
  {
   "cell_type": "code",
   "execution_count": 2,
   "outputs": [],
   "source": [
    "# 读取进行数据预处理后的HTML文档全部信息\n",
    "data = pd.read_csv(\"../spider/allInfo.csv\")"
   ],
   "metadata": {
    "collapsed": false,
    "ExecuteTime": {
     "start_time": "2023-11-30T16:17:52.172532Z",
     "end_time": "2023-11-30T16:17:52.650518Z"
    }
   }
  },
  {
   "cell_type": "code",
   "execution_count": 34,
   "outputs": [],
   "source": [
    "# 禁用标点符号以及一些特殊字符\n",
    "punctuations = '＂＃＄/■★─◎◆●▲％＆＇（）)(-①②③④⑤⑥＊＋，－／：；＜＝＞＠［＼］＾＿｀｛｜｝～｟｠｢｣､\\u3000、〃〈〉《》「」『』【】〔〕〖〗〘〙〚〛〜〝〞〟〰〾〿–—‘’‛“”„‟…‧﹏﹑﹔·！？｡。'"
   ],
   "metadata": {
    "collapsed": false,
    "ExecuteTime": {
     "start_time": "2023-11-30T16:37:36.505061Z",
     "end_time": "2023-11-30T16:37:36.525335Z"
    }
   }
  },
  {
   "cell_type": "code",
   "execution_count": 35,
   "outputs": [],
   "source": [
    "def cut_html(data=data):\n",
    "    # 用于存储分词后的结果\n",
    "    cutted = []\n",
    "    # 一次处理一行，对标题、描述、正文进行分词\n",
    "    for i in range(len(data)):\n",
    "        info = data.iloc[i]\n",
    "        title = list(cut_for_search(info.title))\n",
    "        description,content = str(info.description),str(info.content)\n",
    "        if description is not None:\n",
    "            description = list(cut_for_search(description))\n",
    "        if content is not None:\n",
    "            content = list(cut_for_search(content))\n",
    "        # 接下来考虑把分词后的列表以字符串方式存储，并忽略无意义的标点符号\n",
    "        title = (re.sub(rf\"[{punctuations}]\", '', '#'.join(title)).replace('-', '')).split('#')\n",
    "        # 然后把新的分词结果按空格分割组合成新的字符串\n",
    "        title = ' '.join([word for word in title if (word != '' and word != ' ')])\n",
    "        # 描述以及文档正文处理同理\n",
    "        if description is not None:\n",
    "            description = re.sub(rf\"[{punctuations}]\", '', '#'.join(description)).split('#')\n",
    "            description = ' '.join([word for word in description if (word != '' and word != ' ')])\n",
    "        if content is not None and content != np.nan:\n",
    "            content = re.sub(rf\"[{punctuations}]\", '', '#'.join(content)).split('#')\n",
    "            content = ' '.join([word for word in content if (word != '' and word != ' ')])\n",
    "        ls = [info.url,title,description,info.date_timestamp,content,info.editor]\n",
    "        cutted.append(ls)\n",
    "    return cutted"
   ],
   "metadata": {
    "collapsed": false,
    "ExecuteTime": {
     "start_time": "2023-11-30T16:37:39.460396Z",
     "end_time": "2023-11-30T16:37:39.489588Z"
    }
   }
  },
  {
   "cell_type": "code",
   "execution_count": 36,
   "outputs": [],
   "source": [
    "cutted = cut_html()"
   ],
   "metadata": {
    "collapsed": false,
    "ExecuteTime": {
     "start_time": "2023-11-30T16:37:40.206379Z",
     "end_time": "2023-11-30T16:38:05.459966Z"
    }
   }
  },
  {
   "cell_type": "code",
   "execution_count": 37,
   "outputs": [],
   "source": [
    "cutted = pd.DataFrame(np.array(cutted))"
   ],
   "metadata": {
    "collapsed": false,
    "ExecuteTime": {
     "start_time": "2023-11-30T16:38:08.628290Z",
     "end_time": "2023-11-30T16:38:42.164040Z"
    }
   }
  },
  {
   "cell_type": "code",
   "execution_count": 40,
   "outputs": [
    {
     "data": {
      "text/plain": "                                                    url  \\\n0     http://news.nankai.edu.cn/ywsd/system/2021/10/...   \n1     http://news.nankai.edu.cn/ywsd/system/2023/06/...   \n2     http://news.nankai.edu.cn/ywsd/system/2022/03/...   \n3     http://news.nankai.edu.cn/ywsd/system/2021/05/...   \n4     http://news.nankai.edu.cn/ywsd/system/2022/08/...   \n...                                                 ...   \n5639  http://news.nankai.edu.cn/ywsd/system/2021/12/...   \n5640  http://news.nankai.edu.cn/ywsd/system/2022/07/...   \n5641  http://news.nankai.edu.cn/ywsd/system/2022/11/...   \n5642  http://news.nankai.edu.cn/ywsd/system/2022/03/...   \n5643  http://news.nankai.edu.cn/ywsd/system/2022/03/...   \n\n                                                  title  \\\n0               亿 校友 献礼 南开 化学 学科 百年 南开 要闻 南开 开大 大学 南开大学   \n1     名 南开 开大 大学 南开大学 格拉 拉斯 格拉斯 格拉斯哥 大学 联合 培养 硕士 硕士生...   \n2     位 院士 同 上 一门 南开 本科 通识 选修 修课 选修课 南开 要闻 南开 开大 大学 ...   \n3     项 成果 获 天津 津市 天津市 科技 科技奖 年度 唯一 自然 科学 自然科 自然科学 特...   \n4          这个 暑假 南开 人 实践 在实践中 振兴 庄浪 南开 要闻 南开 开大 大学 南开大学   \n...                                                 ...   \n5639  龚克 与 级 数字 经济 与 贸易 精英 人才 特色 班 座谈 南开 要闻 南开 开大 大学...   \n5640  龚克 应邀 为 中国 科协 中国科协 青年 杰出 工程 工程师 国情 研修 研修班 授课 南...   \n5641  龚克 教授 受邀 访问 联合 联合国 专门 门机 机构 专门机构 南开 要闻 南开 开大 大...   \n5642      龚克 教授 赴 哥斯达黎加 出席 世界 工程 峰会 南开 要闻 南开 开大 大学 南开大学   \n5643      龚克 教授 赴美 美国 赴美国 金山 旧金山 访问 南开 要闻 南开 开大 大学 南开大学   \n\n                                            description date_timestamp  \\\n0     南开 新闻 新闻网 讯 记者 蓝芳 摄影 宗 琪琪 在 南开 开大 大学 南开大学 建校 周...   1634400000.0   \n1     南开 新闻 新闻网 讯 记者 李享 学生 记者 叶新鹏 吕运康 摄影 宗 琪琪 月 日 由 ...   1687708800.0   \n2     南开 新闻 新闻网 讯 记者 付坤 摄影 宗 琪琪 选 上 一门 由 位 院士 同上 的 本...   1647792000.0   \n3     南开 新闻 新闻网 讯 通讯 通讯员 张玮光 记者 吴军辉 日前 年度 天津 津市 天津市 ...   1621353600.0   \n4     南开 新闻 新闻网 讯 通讯 通讯员 张思一 年 月 南开 开大 大学 南开大学 以 庄浪 ...   1659456000.0   \n...                                                 ...            ...   \n5639  南开 新闻 新闻网 讯 通讯 通讯员 李昕 月 日 下午 世界 工程 组织 联合 合会 联合...   1639756800.0   \n5640  南开 新闻 新闻网 讯 记者 南辛 为 深入 学习 贯彻 习近平 书记 总书记 关于 新 时...   1658505600.0   \n5641  南开 新闻 新闻网 讯 日前 世界 工程 组织 联合 合会 联合会 前任 主席 南开 开大 ...   1667491200.0   \n5642  南开 新闻 新闻网 讯 通讯 通讯员 王希思 月 日至 日 由 联合 国教 教科 科文 组织...   1648137600.0   \n5643  南开 新闻 新闻网 讯 通讯 通讯员 王希思 当地 时间 月 日至 日 南开 开大 大学 南...   1648137600.0   \n\n                                                content editor  \n0     记者 蓝芳 摄影 宗 琪琪 在 南开 开大 大学 南开大学 建校 周年 南开 化学 学科 创...     蓝芳  \n1     记者 李享 学生 记者 叶新鹏 吕运康 摄影 宗 琪琪 月 日 由 中英 两国 中英两国 政...     李享  \n2     记者 付坤 摄影 宗 琪琪 选 上 一门 由 位 院士 同上 的 本科 通识 选修 课程 是...    郝静秋  \n3     通讯 通讯员 张玮光 记者 吴军辉 日前 年度 天津 津市 天津市 科学 技术 科学技术 奖...    郝静秋  \n4     通讯 通讯员 张思一 年 月 南开 开大 大学 南开大学 以 庄浪 庄浪县 韩店 镇 东门 ...     付坤  \n...                                                 ...    ...  \n5639  通讯 通讯员 李昕 月 日 下午 世界 工程 组织 联合 合会 联合会 主席 南开 开大 大...     付坤  \n5640  记者 南辛 为 深入 学习 贯彻 习近平 书记 总书记 关于 新 时代 人才 工作 的 理念...    吴军辉  \n5641  日前 世界 工程 组织 联合 合会 联合会 前任 主席 南开 开大 大学 南开大学 学术 委...     蓝芳  \n5642  通讯 通讯员 王希思 月 日至 日 由 联合 国教 教科 科文 组织 联合国 教科文 联合国...     蓝芳  \n5643  通讯 通讯员 王希思 当地 时间 月 日至 日 南开 开大 大学 南开大学 学术 委员 委员...     蓝芳  \n\n[5644 rows x 6 columns]",
      "text/html": "<div>\n<style scoped>\n    .dataframe tbody tr th:only-of-type {\n        vertical-align: middle;\n    }\n\n    .dataframe tbody tr th {\n        vertical-align: top;\n    }\n\n    .dataframe thead th {\n        text-align: right;\n    }\n</style>\n<table border=\"1\" class=\"dataframe\">\n  <thead>\n    <tr style=\"text-align: right;\">\n      <th></th>\n      <th>url</th>\n      <th>title</th>\n      <th>description</th>\n      <th>date_timestamp</th>\n      <th>content</th>\n      <th>editor</th>\n    </tr>\n  </thead>\n  <tbody>\n    <tr>\n      <th>0</th>\n      <td>http://news.nankai.edu.cn/ywsd/system/2021/10/...</td>\n      <td>亿 校友 献礼 南开 化学 学科 百年 南开 要闻 南开 开大 大学 南开大学</td>\n      <td>南开 新闻 新闻网 讯 记者 蓝芳 摄影 宗 琪琪 在 南开 开大 大学 南开大学 建校 周...</td>\n      <td>1634400000.0</td>\n      <td>记者 蓝芳 摄影 宗 琪琪 在 南开 开大 大学 南开大学 建校 周年 南开 化学 学科 创...</td>\n      <td>蓝芳</td>\n    </tr>\n    <tr>\n      <th>1</th>\n      <td>http://news.nankai.edu.cn/ywsd/system/2023/06/...</td>\n      <td>名 南开 开大 大学 南开大学 格拉 拉斯 格拉斯 格拉斯哥 大学 联合 培养 硕士 硕士生...</td>\n      <td>南开 新闻 新闻网 讯 记者 李享 学生 记者 叶新鹏 吕运康 摄影 宗 琪琪 月 日 由 ...</td>\n      <td>1687708800.0</td>\n      <td>记者 李享 学生 记者 叶新鹏 吕运康 摄影 宗 琪琪 月 日 由 中英 两国 中英两国 政...</td>\n      <td>李享</td>\n    </tr>\n    <tr>\n      <th>2</th>\n      <td>http://news.nankai.edu.cn/ywsd/system/2022/03/...</td>\n      <td>位 院士 同 上 一门 南开 本科 通识 选修 修课 选修课 南开 要闻 南开 开大 大学 ...</td>\n      <td>南开 新闻 新闻网 讯 记者 付坤 摄影 宗 琪琪 选 上 一门 由 位 院士 同上 的 本...</td>\n      <td>1647792000.0</td>\n      <td>记者 付坤 摄影 宗 琪琪 选 上 一门 由 位 院士 同上 的 本科 通识 选修 课程 是...</td>\n      <td>郝静秋</td>\n    </tr>\n    <tr>\n      <th>3</th>\n      <td>http://news.nankai.edu.cn/ywsd/system/2021/05/...</td>\n      <td>项 成果 获 天津 津市 天津市 科技 科技奖 年度 唯一 自然 科学 自然科 自然科学 特...</td>\n      <td>南开 新闻 新闻网 讯 通讯 通讯员 张玮光 记者 吴军辉 日前 年度 天津 津市 天津市 ...</td>\n      <td>1621353600.0</td>\n      <td>通讯 通讯员 张玮光 记者 吴军辉 日前 年度 天津 津市 天津市 科学 技术 科学技术 奖...</td>\n      <td>郝静秋</td>\n    </tr>\n    <tr>\n      <th>4</th>\n      <td>http://news.nankai.edu.cn/ywsd/system/2022/08/...</td>\n      <td>这个 暑假 南开 人 实践 在实践中 振兴 庄浪 南开 要闻 南开 开大 大学 南开大学</td>\n      <td>南开 新闻 新闻网 讯 通讯 通讯员 张思一 年 月 南开 开大 大学 南开大学 以 庄浪 ...</td>\n      <td>1659456000.0</td>\n      <td>通讯 通讯员 张思一 年 月 南开 开大 大学 南开大学 以 庄浪 庄浪县 韩店 镇 东门 ...</td>\n      <td>付坤</td>\n    </tr>\n    <tr>\n      <th>...</th>\n      <td>...</td>\n      <td>...</td>\n      <td>...</td>\n      <td>...</td>\n      <td>...</td>\n      <td>...</td>\n    </tr>\n    <tr>\n      <th>5639</th>\n      <td>http://news.nankai.edu.cn/ywsd/system/2021/12/...</td>\n      <td>龚克 与 级 数字 经济 与 贸易 精英 人才 特色 班 座谈 南开 要闻 南开 开大 大学...</td>\n      <td>南开 新闻 新闻网 讯 通讯 通讯员 李昕 月 日 下午 世界 工程 组织 联合 合会 联合...</td>\n      <td>1639756800.0</td>\n      <td>通讯 通讯员 李昕 月 日 下午 世界 工程 组织 联合 合会 联合会 主席 南开 开大 大...</td>\n      <td>付坤</td>\n    </tr>\n    <tr>\n      <th>5640</th>\n      <td>http://news.nankai.edu.cn/ywsd/system/2022/07/...</td>\n      <td>龚克 应邀 为 中国 科协 中国科协 青年 杰出 工程 工程师 国情 研修 研修班 授课 南...</td>\n      <td>南开 新闻 新闻网 讯 记者 南辛 为 深入 学习 贯彻 习近平 书记 总书记 关于 新 时...</td>\n      <td>1658505600.0</td>\n      <td>记者 南辛 为 深入 学习 贯彻 习近平 书记 总书记 关于 新 时代 人才 工作 的 理念...</td>\n      <td>吴军辉</td>\n    </tr>\n    <tr>\n      <th>5641</th>\n      <td>http://news.nankai.edu.cn/ywsd/system/2022/11/...</td>\n      <td>龚克 教授 受邀 访问 联合 联合国 专门 门机 机构 专门机构 南开 要闻 南开 开大 大...</td>\n      <td>南开 新闻 新闻网 讯 日前 世界 工程 组织 联合 合会 联合会 前任 主席 南开 开大 ...</td>\n      <td>1667491200.0</td>\n      <td>日前 世界 工程 组织 联合 合会 联合会 前任 主席 南开 开大 大学 南开大学 学术 委...</td>\n      <td>蓝芳</td>\n    </tr>\n    <tr>\n      <th>5642</th>\n      <td>http://news.nankai.edu.cn/ywsd/system/2022/03/...</td>\n      <td>龚克 教授 赴 哥斯达黎加 出席 世界 工程 峰会 南开 要闻 南开 开大 大学 南开大学</td>\n      <td>南开 新闻 新闻网 讯 通讯 通讯员 王希思 月 日至 日 由 联合 国教 教科 科文 组织...</td>\n      <td>1648137600.0</td>\n      <td>通讯 通讯员 王希思 月 日至 日 由 联合 国教 教科 科文 组织 联合国 教科文 联合国...</td>\n      <td>蓝芳</td>\n    </tr>\n    <tr>\n      <th>5643</th>\n      <td>http://news.nankai.edu.cn/ywsd/system/2022/03/...</td>\n      <td>龚克 教授 赴美 美国 赴美国 金山 旧金山 访问 南开 要闻 南开 开大 大学 南开大学</td>\n      <td>南开 新闻 新闻网 讯 通讯 通讯员 王希思 当地 时间 月 日至 日 南开 开大 大学 南...</td>\n      <td>1648137600.0</td>\n      <td>通讯 通讯员 王希思 当地 时间 月 日至 日 南开 开大 大学 南开大学 学术 委员 委员...</td>\n      <td>蓝芳</td>\n    </tr>\n  </tbody>\n</table>\n<p>5644 rows × 6 columns</p>\n</div>"
     },
     "execution_count": 40,
     "metadata": {},
     "output_type": "execute_result"
    }
   ],
   "source": [
    "cutted.columns = data.columns\n",
    "cutted = cutted.fillna(\"\")\n",
    "cutted.to_csv(\"cutted.csv\")\n",
    "cutted"
   ],
   "metadata": {
    "collapsed": false,
    "ExecuteTime": {
     "start_time": "2023-11-30T18:12:52.353768Z",
     "end_time": "2023-11-30T18:12:52.660826Z"
    }
   }
  },
  {
   "cell_type": "code",
   "execution_count": null,
   "outputs": [],
   "source": [],
   "metadata": {
    "collapsed": false
   }
  }
 ],
 "metadata": {
  "kernelspec": {
   "display_name": "Python 3",
   "language": "python",
   "name": "python3"
  },
  "language_info": {
   "codemirror_mode": {
    "name": "ipython",
    "version": 2
   },
   "file_extension": ".py",
   "mimetype": "text/x-python",
   "name": "python",
   "nbconvert_exporter": "python",
   "pygments_lexer": "ipython2",
   "version": "2.7.6"
  }
 },
 "nbformat": 4,
 "nbformat_minor": 0
}
