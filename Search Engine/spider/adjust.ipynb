{
 "cells": [
  {
   "cell_type": "code",
   "execution_count": 3,
   "metadata": {
    "collapsed": true,
    "ExecuteTime": {
     "start_time": "2023-11-23T14:54:37.570105Z",
     "end_time": "2023-11-23T14:54:37.581102Z"
    }
   },
   "outputs": [],
   "source": [
    "import numpy as np\n",
    "import pandas as pd\n",
    "import os\n",
    "from jieba import cut_for_search # 分词包\n",
    "from parsel import Selector"
   ]
  },
  {
   "cell_type": "markdown",
   "source": [
    "### 一、数据清洗"
   ],
   "metadata": {
    "collapsed": false
   }
  },
  {
   "cell_type": "code",
   "execution_count": 66,
   "outputs": [],
   "source": [
    "path = \"nk_media\"\n",
    "files = os.listdir(path)\n",
    "medias = ['北方网','光明日报','今晚报','北京日报','津云','经济日报','科技日报','科学网','人民日报','天津日报','新华网','中国教育报','中国科学报','中国青年报','中国新闻网','中宏网']"
   ],
   "metadata": {
    "collapsed": false,
    "ExecuteTime": {
     "start_time": "2023-11-23T16:17:15.850655Z",
     "end_time": "2023-11-23T16:17:15.868947Z"
    }
   }
  },
  {
   "cell_type": "code",
   "execution_count": 67,
   "outputs": [],
   "source": [
    "# 删除不以上面列表中任意元素开头的文件\n",
    "for file in files:\n",
    "    if not any(file.startswith(media) for media in medias):\n",
    "        file_path = os.path.join(path,file)\n",
    "        os.remove(file_path)"
   ],
   "metadata": {
    "collapsed": false,
    "ExecuteTime": {
     "start_time": "2023-11-23T16:17:18.026859Z",
     "end_time": "2023-11-23T16:17:18.476265Z"
    }
   }
  },
  {
   "cell_type": "code",
   "execution_count": 69,
   "outputs": [],
   "source": [
    "# 处理csv文件\n",
    "media_csv = pd.read_csv(\"nk_media.csv\")"
   ],
   "metadata": {
    "collapsed": false,
    "ExecuteTime": {
     "start_time": "2023-11-23T16:17:32.554121Z",
     "end_time": "2023-11-23T16:17:32.586249Z"
    }
   }
  },
  {
   "cell_type": "code",
   "execution_count": 71,
   "outputs": [],
   "source": [
    "index = []\n",
    "for i in range(len(media_csv)):\n",
    "    if not any(media_csv.iloc[i].title.startswith(media) for media in medias):\n",
    "        index.append(i)"
   ],
   "metadata": {
    "collapsed": false,
    "ExecuteTime": {
     "start_time": "2023-11-23T16:17:44.114776Z",
     "end_time": "2023-11-23T16:17:45.716414Z"
    }
   }
  },
  {
   "cell_type": "code",
   "execution_count": null,
   "outputs": [],
   "source": [
    "for i in index[::-1]:\n",
    "    media_csv.drop(i,inplace=True)"
   ],
   "metadata": {
    "collapsed": false,
    "ExecuteTime": {
     "start_time": "2023-11-23T16:18:22.833544Z",
     "end_time": "2023-11-23T16:18:23.374768Z"
    }
   }
  },
  {
   "cell_type": "code",
   "execution_count": 107,
   "outputs": [],
   "source": [
    "# 再进行两次检验，确保剩下的文件是csv和HTML文件夹中文件的交集\n",
    "files = os.listdir(path)\n",
    "for file in np.array(files):\n",
    "    true_name = file.split(\".html\")[0]\n",
    "    if true_name not in media_csv.title.to_numpy():\n",
    "        os.remove(os.path.join(path,file))"
   ],
   "metadata": {
    "collapsed": false,
    "ExecuteTime": {
     "start_time": "2023-11-23T16:31:52.125034Z",
     "end_time": "2023-11-23T16:31:52.252248Z"
    }
   }
  },
  {
   "cell_type": "code",
   "execution_count": 112,
   "outputs": [],
   "source": [
    "files = os.listdir(path)\n",
    "index = []\n",
    "for i in range(len(media_csv)):\n",
    "    if media_csv.iloc[i].title not in [file.split(\".html\")[0] for file in files]:\n",
    "        index.append(i)\n",
    "for i in index[::-1]:\n",
    "    media_csv.drop(i,inplace=True)"
   ],
   "metadata": {
    "collapsed": false,
    "ExecuteTime": {
     "start_time": "2023-11-23T16:37:13.072344Z",
     "end_time": "2023-11-23T16:37:14.599460Z"
    }
   }
  },
  {
   "cell_type": "code",
   "execution_count": null,
   "outputs": [],
   "source": [
    "media_csv.reset_index(inplace=True)\n",
    "media_csv.pop('index')"
   ],
   "metadata": {
    "collapsed": false,
    "ExecuteTime": {
     "start_time": "2023-11-23T16:39:08.195738Z",
     "end_time": "2023-11-23T16:39:08.223746Z"
    }
   }
  },
  {
   "cell_type": "code",
   "execution_count": 127,
   "outputs": [],
   "source": [
    "media_csv.to_csv(\"nk_media.csv\")"
   ],
   "metadata": {
    "collapsed": false,
    "ExecuteTime": {
     "start_time": "2023-11-23T16:40:35.569062Z",
     "end_time": "2023-11-23T16:40:35.598281Z"
    }
   }
  },
  {
   "cell_type": "code",
   "execution_count": null,
   "outputs": [],
   "source": [],
   "metadata": {
    "collapsed": false
   }
  }
 ],
 "metadata": {
  "kernelspec": {
   "display_name": "Python 3",
   "language": "python",
   "name": "python3"
  },
  "language_info": {
   "codemirror_mode": {
    "name": "ipython",
    "version": 2
   },
   "file_extension": ".py",
   "mimetype": "text/x-python",
   "name": "python",
   "nbconvert_exporter": "python",
   "pygments_lexer": "ipython2",
   "version": "2.7.6"
  }
 },
 "nbformat": 4,
 "nbformat_minor": 0
}
