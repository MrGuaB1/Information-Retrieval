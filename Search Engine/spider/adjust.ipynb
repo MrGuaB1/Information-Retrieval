{
 "cells": [
  {
   "cell_type": "code",
   "execution_count": 43,
   "metadata": {
    "collapsed": true,
    "ExecuteTime": {
     "start_time": "2023-11-30T15:02:47.392173Z",
     "end_time": "2023-11-30T15:02:47.410168Z"
    }
   },
   "outputs": [],
   "source": [
    "import numpy as np\n",
    "import pandas as pd\n",
    "import datetime\n",
    "import os\n",
    "import re\n",
    "from parsel import Selector"
   ]
  },
  {
   "cell_type": "markdown",
   "source": [
    "### 一、数据清洗"
   ],
   "metadata": {
    "collapsed": false
   }
  },
  {
   "cell_type": "code",
   "execution_count": 66,
   "outputs": [],
   "source": [
    "path = \"nk_media\"\n",
    "files = os.listdir(path)\n",
    "medias = ['北方网','光明日报','今晚报','北京日报','津云','经济日报','科技日报','科学网','人民日报','天津日报','新华网','中国教育报','中国科学报','中国青年报','中国新闻网']"
   ],
   "metadata": {
    "collapsed": false,
    "ExecuteTime": {
     "start_time": "2023-11-23T16:17:15.850655Z",
     "end_time": "2023-11-23T16:17:15.868947Z"
    }
   }
  },
  {
   "cell_type": "code",
   "execution_count": 67,
   "outputs": [],
   "source": [
    "# 删除不以上面列表中任意元素开头的文件\n",
    "for file in files:\n",
    "    if not any(file.startswith(media) for media in medias):\n",
    "        file_path = os.path.join(path,file)\n",
    "        os.remove(file_path)"
   ],
   "metadata": {
    "collapsed": false,
    "ExecuteTime": {
     "start_time": "2023-11-23T16:17:18.026859Z",
     "end_time": "2023-11-23T16:17:18.476265Z"
    }
   }
  },
  {
   "cell_type": "code",
   "execution_count": 69,
   "outputs": [],
   "source": [
    "# 处理csv文件\n",
    "media_csv = pd.read_csv(\"nk_media.csv\")"
   ],
   "metadata": {
    "collapsed": false,
    "ExecuteTime": {
     "start_time": "2023-11-23T16:17:32.554121Z",
     "end_time": "2023-11-23T16:17:32.586249Z"
    }
   }
  },
  {
   "cell_type": "code",
   "execution_count": 71,
   "outputs": [],
   "source": [
    "index = []\n",
    "for i in range(len(media_csv)):\n",
    "    if not any(media_csv.iloc[i].title.startswith(media) for media in medias):\n",
    "        index.append(i)"
   ],
   "metadata": {
    "collapsed": false,
    "ExecuteTime": {
     "start_time": "2023-11-23T16:17:44.114776Z",
     "end_time": "2023-11-23T16:17:45.716414Z"
    }
   }
  },
  {
   "cell_type": "code",
   "execution_count": null,
   "outputs": [],
   "source": [
    "for i in index[::-1]:\n",
    "    media_csv.drop(i,inplace=True)"
   ],
   "metadata": {
    "collapsed": false,
    "ExecuteTime": {
     "start_time": "2023-11-23T16:18:22.833544Z",
     "end_time": "2023-11-23T16:18:23.374768Z"
    }
   }
  },
  {
   "cell_type": "code",
   "execution_count": 107,
   "outputs": [],
   "source": [
    "# 再进行两次检验，确保剩下的文件是csv和HTML文件夹中文件的交集\n",
    "files = os.listdir(path)\n",
    "for file in np.array(files):\n",
    "    true_name = file.split(\".html\")[0]\n",
    "    if true_name not in media_csv.title.to_numpy():\n",
    "        os.remove(os.path.join(path,file))"
   ],
   "metadata": {
    "collapsed": false,
    "ExecuteTime": {
     "start_time": "2023-11-23T16:31:52.125034Z",
     "end_time": "2023-11-23T16:31:52.252248Z"
    }
   }
  },
  {
   "cell_type": "code",
   "execution_count": 112,
   "outputs": [],
   "source": [
    "files = os.listdir(path)\n",
    "index = []\n",
    "for i in range(len(media_csv)):\n",
    "    if media_csv.iloc[i].title not in [file.split(\".html\")[0] for file in files]:\n",
    "        index.append(i)\n",
    "for i in index[::-1]:\n",
    "    media_csv.drop(i,inplace=True)"
   ],
   "metadata": {
    "collapsed": false,
    "ExecuteTime": {
     "start_time": "2023-11-23T16:37:13.072344Z",
     "end_time": "2023-11-23T16:37:14.599460Z"
    }
   }
  },
  {
   "cell_type": "code",
   "execution_count": null,
   "outputs": [],
   "source": [
    "media_csv.reset_index(inplace=True)\n",
    "media_csv.pop('index')"
   ],
   "metadata": {
    "collapsed": false,
    "ExecuteTime": {
     "start_time": "2023-11-23T16:39:08.195738Z",
     "end_time": "2023-11-23T16:39:08.223746Z"
    }
   }
  },
  {
   "cell_type": "code",
   "execution_count": 131,
   "outputs": [],
   "source": [
    "media_csv.to_csv(\"nk_media.csv\")"
   ],
   "metadata": {
    "collapsed": false,
    "ExecuteTime": {
     "start_time": "2023-11-23T17:47:08.213656Z",
     "end_time": "2023-11-23T17:47:08.244655Z"
    }
   }
  },
  {
   "cell_type": "markdown",
   "source": [
    "### 二、数据预处理"
   ],
   "metadata": {
    "collapsed": false
   }
  },
  {
   "cell_type": "code",
   "execution_count": 37,
   "outputs": [],
   "source": [
    "# 将两个csv合并，然后再手动合并两个html文件夹为一个文件夹，命名为htmls\n",
    "news_csv = pd.read_csv(\"nk_news.csv\",encoding='utf-8',index_col=0)\n",
    "media_csv = pd.read_csv(\"nk_media.csv\",encoding='utf-8',index_col=0)\n",
    "data = pd.concat([news_csv,media_csv],axis=0)\n",
    "data.to_csv(\"data.csv\")"
   ],
   "metadata": {
    "collapsed": false,
    "ExecuteTime": {
     "start_time": "2023-11-30T14:43:07.839447Z",
     "end_time": "2023-11-30T14:43:07.915450Z"
    }
   }
  },
  {
   "cell_type": "code",
   "execution_count": 38,
   "outputs": [],
   "source": [
    "# 为本地文件夹下的所有HTML文档添加description，用于后续分词构建索引\n",
    "def add_description(path=\"htmls\"):\n",
    "    files = os.listdir(path)\n",
    "    for file_name in files:\n",
    "        file_path = os.path.join(path,file_name)\n",
    "        with open(file_path,'r',encoding='utf-8') as file:\n",
    "            content = file.read()\n",
    "            selector = Selector(content)\n",
    "            title = selector.css('title::text').get()\n",
    "            _title = title.replace('/', '_')\n",
    "            # 获取head内的以description为类名的meta标签内容\n",
    "            description = selector.css('meta[name=\"description\"]::attr(content)').get()\n",
    "            if description is not None:  # 去除空字符\n",
    "                description = description.replace('\\r', '').replace('\\n', '').replace('\\t', '').replace('\\n', '').replace('　', '')\n",
    "            data.loc[_title, 'description'] = description"
   ],
   "metadata": {
    "collapsed": false,
    "ExecuteTime": {
     "start_time": "2023-11-30T14:43:10.312212Z",
     "end_time": "2023-11-30T14:43:10.353218Z"
    }
   }
  },
  {
   "cell_type": "code",
   "execution_count": 39,
   "outputs": [],
   "source": [
    "add_description()"
   ],
   "metadata": {
    "collapsed": false,
    "ExecuteTime": {
     "start_time": "2023-11-30T14:43:12.430197Z",
     "end_time": "2023-11-30T14:43:19.029656Z"
    }
   }
  },
  {
   "cell_type": "code",
   "execution_count": 40,
   "outputs": [],
   "source": [
    "data.to_csv(\"data_with_description.csv\")"
   ],
   "metadata": {
    "collapsed": false,
    "ExecuteTime": {
     "start_time": "2023-11-30T14:43:20.640540Z",
     "end_time": "2023-11-30T14:43:20.737546Z"
    }
   }
  },
  {
   "cell_type": "code",
   "execution_count": 52,
   "outputs": [],
   "source": [
    "allInfo = pd.DataFrame(columns=['title', 'description', 'date_timestamp', 'content', 'editor'])\n",
    "allInfo.index.name = 'url'"
   ],
   "metadata": {
    "collapsed": false,
    "ExecuteTime": {
     "start_time": "2023-11-30T15:12:49.412621Z",
     "end_time": "2023-11-30T15:12:49.446620Z"
    }
   }
  },
  {
   "cell_type": "code",
   "execution_count": 61,
   "outputs": [],
   "source": [
    "# 获取一个HTML文档的全部信息，包括描述，发布时间，作者，正文等\n",
    "def getALlInfo(path=\"htmls\"):\n",
    "    files = os.listdir(path)\n",
    "    for file_name in files:\n",
    "        file_path = os.path.join(path,file_name)\n",
    "        with open(file_path,'r',encoding='utf-8') as file:\n",
    "            content = file.read()\n",
    "            selector = Selector(content)\n",
    "            title = selector.css('title::text').get()\n",
    "            _title = title.replace('/', '_')\n",
    "            url = data.loc[_title, 'url']\n",
    "            # 获取head内的以description为类名的meta标签内容\n",
    "            description = selector.css('meta[name=\"description\"]::attr(content)').get()\n",
    "            if description is not None:  # 去除空字符\n",
    "                description = description.replace('\\r', '').replace('\\n', '').replace('\\t', '').replace('\\n', '').replace('　', '')\n",
    "            _content: list = selector.css('p::text').getall()\n",
    "            # 作者信息单独保存到一列\n",
    "            content = \"\".join(_content[:-1])\n",
    "            if _content != []:  # 去除空字符\n",
    "                content = content.replace('\\r', '').replace('\\n', '').replace('\\t', '').replace(' ', ' ').replace('　', '')\n",
    "                editor = _content[-1].replace('\\n', '').replace(' ', '')\n",
    "            else:\n",
    "                editor = None\n",
    "            # 找到形如 YYYY/MM/DD/ 的字符串\n",
    "            regex = re.search(r'(20)\\d{2}/(0?[1-9]|1[012])/(0?[1-9]|[12][0-9]|3[01])/', url, re.S)\n",
    "            if bool(regex):\n",
    "                date = regex.group()\n",
    "                date_timestamp = datetime.datetime.strptime(date, '%Y/%m/%d/').timestamp()  # 转换时间戳存储\n",
    "            else:\n",
    "                date_timestamp = None\n",
    "            allInfo.loc[url] = [title, description, date_timestamp, content, editor]"
   ],
   "metadata": {
    "collapsed": false,
    "ExecuteTime": {
     "start_time": "2023-11-30T15:17:39.530865Z",
     "end_time": "2023-11-30T15:17:39.569892Z"
    }
   }
  },
  {
   "cell_type": "code",
   "execution_count": 56,
   "outputs": [],
   "source": [
    "getALlInfo()"
   ],
   "metadata": {
    "collapsed": false,
    "ExecuteTime": {
     "start_time": "2023-11-30T15:13:09.564520Z",
     "end_time": "2023-11-30T15:13:20.820105Z"
    }
   }
  },
  {
   "cell_type": "code",
   "execution_count": 58,
   "outputs": [],
   "source": [
    "allInfo.to_csv(\"allInfo.csv\")"
   ],
   "metadata": {
    "collapsed": false
   }
  },
  {
   "cell_type": "code",
   "execution_count": null,
   "outputs": [],
   "source": [],
   "metadata": {
    "collapsed": false
   }
  }
 ],
 "metadata": {
  "kernelspec": {
   "display_name": "Python 3",
   "language": "python",
   "name": "python3"
  },
  "language_info": {
   "codemirror_mode": {
    "name": "ipython",
    "version": 2
   },
   "file_extension": ".py",
   "mimetype": "text/x-python",
   "name": "python",
   "nbconvert_exporter": "python",
   "pygments_lexer": "ipython2",
   "version": "2.7.6"
  }
 },
 "nbformat": 4,
 "nbformat_minor": 0
}
