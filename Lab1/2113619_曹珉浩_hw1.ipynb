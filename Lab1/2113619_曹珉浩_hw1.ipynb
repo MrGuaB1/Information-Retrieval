{
 "cells": [
  {
   "cell_type": "markdown",
   "metadata": {},
   "source": [
    "# HW1 布尔检索\n",
    "\n",
    "本次作业使用斯坦福大学[CS 276 / LING 286: Information Retrieval and Web Search](https://web.stanford.edu/class/cs276/)课程的代码框架来实现。具体来说主要包含的内容有：\n",
    "1. [索引构建 (40%)](#索引构建与检索-(40%)) 使用BSBI方法模拟在内存不足的情况下的索引构建方式，并应用于布尔查询\n",
    "2. [索引压缩 (30%)](#索引压缩-(30%)) 使用可变长编码对构建的索引进行压缩\n",
    "3. [布尔检索 (10%)](#布尔联合检索-(10%)) 对空格分隔的单词查询进行联合（与）布尔检索\n",
    "3. [实验报告 (10%)](#Report-(25%)) 描述你的代码并回答一些问题\n",
    "4. [额外的编码方式 (10%)](#额外的编码方式-(10%)) 鼓励使用额外的编码方式对索引进行压缩 (例如, gamma-encoding)"
   ]
  },
  {
   "cell_type": "code",
   "execution_count": 3,
   "metadata": {
    "ExecuteTime": {
     "end_time": "2023-09-17T04:54:17.681646Z",
     "start_time": "2023-09-17T04:54:17.675335Z"
    }
   },
   "outputs": [],
   "source": [
    "# You can add additional imports here\n",
    "import sys\n",
    "import pickle as pkl\n",
    "import array\n",
    "import os\n",
    "import timeit\n",
    "import contextlib\n",
    "import numpy as np\n",
    "import pandas as pd\n",
    "from collections import defaultdict\n",
    "from math import log"
   ]
  },
  {
   "cell_type": "markdown",
   "metadata": {},
   "source": [
    "# 数据集"
   ]
  },
  {
   "cell_type": "markdown",
   "metadata": {},
   "source": [
    "实验使用的文本数据是stanford.edu域下的网页内容，可从http://web.stanford.edu/class/cs276/pa/pa1-data.zip 下载。以下代码将大约170MB的文本数据下载到当前目录下，"
   ]
  },
  {
   "cell_type": "code",
   "execution_count": null,
   "metadata": {},
   "outputs": [],
   "source": [
    "import urllib.request\n",
    "import zipfile\n",
    "\n",
    "data_url = 'http://web.stanford.edu/class/cs276/pa/pa1-data.zip'\n",
    "data_dir = 'pa1-data'\n",
    "urllib.request.urlretrieve(data_url, data_dir+'.zip')\n",
    "zip_ref = zipfile.ZipFile(data_dir+'.zip', 'r')\n",
    "zip_ref.extractall()\n",
    "zip_ref.close()"
   ]
  },
  {
   "cell_type": "markdown",
   "metadata": {},
   "source": [
    "之后构建的索引会被存储到`output_dir`，`tmp`会存储测试数据（toy-data）所生成的一些临时文件"
   ]
  },
  {
   "cell_type": "code",
   "execution_count": 4,
   "metadata": {
    "ExecuteTime": {
     "end_time": "2023-09-17T04:54:22.831685Z",
     "start_time": "2023-09-17T04:54:22.823861Z"
    }
   },
   "outputs": [],
   "source": [
    "try:\n",
    "    os.mkdir('output_dir') #构建的索引\n",
    "except FileExistsError:\n",
    "    pass\n",
    "try:\n",
    "    os.mkdir('tmp') #测试数据产生的临时文件\n",
    "except FileExistsError:\n",
    "    pass\n",
    "try:\n",
    "    os.mkdir('toy_output_dir')\n",
    "except FileExistsError:\n",
    "    pass"
   ]
  },
  {
   "cell_type": "markdown",
   "metadata": {},
   "source": [
    "在数据目录下有10个子目录（命名0-9）"
   ]
  },
  {
   "cell_type": "code",
   "execution_count": 5,
   "metadata": {
    "ExecuteTime": {
     "end_time": "2023-09-17T04:54:25.273607Z",
     "start_time": "2023-09-17T04:54:25.264933Z"
    }
   },
   "outputs": [
    {
     "data": {
      "text/plain": "['.DS_Store', '0', '1', '2', '3', '4', '5', '6', '7', '8', '9']"
     },
     "execution_count": 5,
     "metadata": {},
     "output_type": "execute_result"
    }
   ],
   "source": [
    "sorted(os.listdir('pa1-data'))"
   ]
  },
  {
   "cell_type": "markdown",
   "metadata": {},
   "source": [
    "每一个子目录下的文件都包含一个独立网页的内容。可以认为在同一子目录下没有同名文件，即每个文件的绝对路径不会相同。"
   ]
  },
  {
   "cell_type": "code",
   "execution_count": 6,
   "metadata": {
    "ExecuteTime": {
     "end_time": "2023-09-17T04:54:27.734753Z",
     "start_time": "2023-09-17T04:54:27.710196Z"
    }
   },
   "outputs": [
    {
     "data": {
      "text/plain": "['3dradiology.stanford.edu_',\n '3dradiology.stanford.edu_patient_care_Case%2520studies_AVM.html',\n '3dradiology.stanford.edu_patient_care_case_studies.html',\n '5-sure.stanford.edu_',\n '50years.stanford.edu_',\n 'a3cservices.stanford.edu_awards_nominate_',\n 'a3cservices.stanford.edu_facilities_',\n 'a3cservices.stanford.edu_lead_',\n 'aa.stanford.edu_',\n 'aa.stanford.edu_about_aviation.php']"
     },
     "execution_count": 6,
     "metadata": {},
     "output_type": "execute_result"
    }
   ],
   "source": [
    "sorted(os.listdir('pa1-data/0'))[:10]"
   ]
  },
  {
   "cell_type": "markdown",
   "metadata": {},
   "source": [
    "所有的网页内容已经经过处理，仅包含由空格分隔开的单词，不再需要进行额外的标准化工作。"
   ]
  },
  {
   "cell_type": "code",
   "execution_count": 7,
   "metadata": {
    "ExecuteTime": {
     "end_time": "2023-09-17T04:54:30.846449Z",
     "start_time": "2023-09-17T04:54:30.838784Z"
    }
   },
   "outputs": [
    {
     "name": "stdout",
     "output_type": "stream",
     "text": [
      "3d radiology lab stanford university school of medicine stanford school of medicine 3d and quantitative imaging in the department of radiology search this site only stanford medical sites ways to give find a person alumni lane library ways to give find a person about us mission to develop and apply innovative techniques for efficient quantitative analysis and display of medical imaging data through interdisciplinary collaboration goals education to train physicians and technologists locally and worldwide in the latest developments in 3d and quantitative imaging research to develop new approaches to the exploration analysis and quantitative assesment of diagnostic images that result in a new and or more cost effective diagnostic approaches and b new techniques for the design and planning and monitoring of therapy patient care to deliver valid clinically relevant visualization and analysis of medical imaging data to the stanford community locations richard m lucas magnetic resonance imaging center 1201 welch rd p170 stanford ca 94305 5488 650 725 8432 james h clark center 318 campus drive s344 stanford ca 94305 5450 650 725 6862 directions to the 3qd lab local hotels you are here stanford medicine school of medicine departments radiology 3dq laboratory navigation for this section 3dq laboratory home education research patient care industry about us site navigation home education overview visiting fellowships reading list research overview research activities research opportunities patient care overview for physicians for patients protocol development 3dq management software case studies testimonials industry overview infrastructure and services about us faculty and staff history of the lab resources and equipment contact information jobs getting to the 3dq lab stanford medicine resources stanford medicine getting care overview find a physician find a clinical care center stanford hospital & clinics lucile packard children's hospital emergency research overview school of medicine news & resources clinical trials departments institutes & centers faculty profiles education & training overview school of medicine programs admissions continuing medical education alumni lane medical library community overview stanford health library community newsletter volunteering public service & community partnerships renewal & new building projects about us overview news careers ways to give find a person contact us maps & directions the dean's newsletter stanford university footer links contact us directions members only 2009 stanford school of medicine terms of use powered by irt\n",
      "\n"
     ]
    }
   ],
   "source": [
    "with open('pa1-data/0/3dradiology.stanford.edu_', 'r') as f:\n",
    "    print(f.read())"
   ]
  },
  {
   "cell_type": "markdown",
   "metadata": {},
   "source": [
    "作业目录下有一个小的数据集文件夹`toy-data`。在使用完整网页数据集之前，我们会用它来测试我们的代码是否正确。"
   ]
  },
  {
   "cell_type": "code",
   "execution_count": 8,
   "metadata": {
    "ExecuteTime": {
     "end_time": "2023-09-17T04:54:33.579443Z",
     "start_time": "2023-09-17T04:54:33.570758Z"
    }
   },
   "outputs": [],
   "source": [
    "toy_dir = 'toy-data'"
   ]
  },
  {
   "cell_type": "markdown",
   "metadata": {},
   "source": [
    "# 索引构建与检索 (40%)"
   ]
  },
  {
   "cell_type": "markdown",
   "metadata": {},
   "source": [
    "作业的第一部分是使用**blocked sort-based indexing (BSBI)** 算法来构建倒排索引并实现布尔检索。关于BSBI算法可以参考老师课件或者斯坦福教材[Section 4.2](http://nlp.stanford.edu/IR-book/pdf/04const.pdf)。以下摘自教材内容\n",
    "\n",
    "> To construct an index, we first make a pass through the collection assembling all term-docID pairs. We then sort the pairs with the term as the dominant key and docID as the secondary key. Finally, we organize the docIDs for each term into a postings list and compute statistics like term and document frequency. For small collections, all this can be done in memory. \n",
    "\n",
    "对于无法在内存一次性处理的较大数据集，将会使用到二级存储（如：磁盘）。"
   ]
  },
  {
   "cell_type": "markdown",
   "source": [
    "#### 整理：BSBI算法\n",
    "BSBI(Blocked sort-based Indexing)的基本思想是：收集若干块的倒排表，对每个倒排表排序后写入磁盘，最后对不同分块对倒排表合并为一个大的倒排表，也就是索引文件，算法的流程如下：\n",
    "- 词项ID映射：将所有文档的词项映射为对应的ID，形成全局的termID词典\n",
    "- 构建词项块：将映射后的所有词项划分为大小相等的块构建倒排表，并存入磁盘\n",
    "- 对倒排表排序：将每个块读入内存，然后按照termID排序(如快速排序，归并排序等$O(NlogN)$算法)\n",
    "- 对倒排表合并：从磁盘中取出两个数据块的倒排表，进行合并形成一个全局倒排表，再将全局倒排表存入磁盘。不断重复直到所有倒排表都完成合并\n",
    "<img src=\"./img/p1.png\" style=\"width:50%\">"
   ],
   "metadata": {
    "collapsed": false
   }
  },
  {
   "cell_type": "markdown",
   "metadata": {},
   "source": [
    "## IdMap\n",
    "\n",
    "再次引用教材 Section 4.2:\n",
    "\n",
    "> To make index construction more efficient, we represent terms as termIDs (instead of strings), where each termID is a unique serial number. We can build the mapping from terms to termIDs on the fly while we are processing the collection. Similarly, we also represent documents as docIDs (instead of strings).\n",
    "\n",
    "我们首先定义一个辅助类`IdMap`，用于将字符串和数字ID进行相互映射，以满足我们在term和termID、doc和docID间转换的需求。\n",
    "\n",
    "实现以下代码中的`_get_str` 和 `_get_id`函数，IdMap类的唯一接口是`__getitem__`，它是一个特殊函数，重写了下标运算`[]`,根据下标运算键的类型得到正确的映射值（如果不存在需要添加）。（特殊函数可参考[官方文档](https://docs.python.org/3.7/reference/datamodel.html#special-method-names)）\n",
    "<br>\n",
    "<br>\n",
    "我们会用到字典来将字符串转换为数字，用列表来将数字转换为字符串。"
   ]
  },
  {
   "cell_type": "markdown",
   "source": [
    "这两个函数的实现方法比较简单，不做过多说明"
   ],
   "metadata": {
    "collapsed": false
   }
  },
  {
   "cell_type": "code",
   "execution_count": 10,
   "metadata": {
    "ExecuteTime": {
     "end_time": "2023-09-17T04:56:32.330976Z",
     "start_time": "2023-09-17T04:56:32.323750Z"
    }
   },
   "outputs": [],
   "source": [
    "class IdMap:\n",
    "    \"\"\"Helper class to store a mapping from strings to ids.\"\"\"\n",
    "    def __init__(self):\n",
    "        self.str_to_id = {} #用字典把字符串转换为数字\n",
    "        self.id_to_str = [] #用列表把数字转换为字符串\n",
    "\n",
    "    def __len__(self):\n",
    "        \"\"\"Return number of terms stored in the IdMap\"\"\"\n",
    "        return len(self.id_to_str)\n",
    "\n",
    "    def _get_str(self, i):\n",
    "        \"\"\"Returns the string corresponding to a given id (`i`).\"\"\"\n",
    "        return self.id_to_str[i]\n",
    "\n",
    "    def _get_id(self, s):\n",
    "        \"\"\"Returns the id corresponding to a string (`s`).\n",
    "        If `s` is not in the IdMap yet, then assigns a new id and returns the new id.\n",
    "        \"\"\"\n",
    "        if(s not in self.str_to_id.keys()): #如果s不在IdMap里，就给他一个新的id，添加并返回\n",
    "            self.str_to_id[s]=len(self.str_to_id.keys())\n",
    "            self.id_to_str.append(s)\n",
    "        return self.str_to_id[s]\n",
    "\n",
    "    def __getitem__(self, key): #辅助类的唯一接口，如果传入的key为整数就用getstr函数，若为字符串就用getid函数\n",
    "        \"\"\"If `key` is a integer, use _get_str;\n",
    "           If `key` is a string, use _get_id;\"\"\"\n",
    "        if type(key) is int:\n",
    "            return self._get_str(key)\n",
    "        elif type(key) is str:\n",
    "            return self._get_id(key)\n",
    "        else:\n",
    "            raise TypeError"
   ]
  },
  {
   "cell_type": "markdown",
   "metadata": {},
   "source": [
    "确保代码能通过以下简单测试样例"
   ]
  },
  {
   "cell_type": "code",
   "execution_count": 11,
   "metadata": {
    "ExecuteTime": {
     "end_time": "2023-09-17T04:56:35.250990Z",
     "start_time": "2023-09-17T04:56:35.241640Z"
    }
   },
   "outputs": [],
   "source": [
    "testIdMap = IdMap()\n",
    "assert testIdMap['a'] == 0, \"Unable to add a new string to the IdMap\"\n",
    "assert testIdMap['bcd'] == 1, \"Unable to add a new string to the IdMap\"\n",
    "assert testIdMap['a'] == 0, \"Unable to retrieve the id of an existing string\"\n",
    "assert testIdMap[1] == 'bcd', \"Unable to retrive the string corresponding to a\\\n",
    "                                given id\"\n",
    "try:\n",
    "    testIdMap[2]\n",
    "except IndexError as e:\n",
    "    assert True, \"Doesn't throw an IndexError for out of range numeric ids\"\n",
    "assert len(testIdMap) == 2"
   ]
  },
  {
   "cell_type": "markdown",
   "metadata": {},
   "source": [
    "之后会需要你自己来写测试样例来确保你的程序正常运行"
   ]
  },
  {
   "cell_type": "markdown",
   "metadata": {},
   "source": [
    "## 将倒排列表编码成字节数组\n",
    "\n",
    "为了高效地从磁盘读写倒排列表（文档ID），我们将其存储为字节数组的形式。代码提供了`UncompressedPostings`类来用静态函数实现对倒排列表的编码和解码。在之后的任务中你需要使用该接口实现索引压缩版本（可变长编码）。\n",
    "\n",
    "参考:\n",
    "1. https://docs.python.org/3/library/array.html\n",
    "2. https://pymotw.com/3/array/#module-array"
   ]
  },
  {
   "cell_type": "code",
   "execution_count": 12,
   "metadata": {
    "ExecuteTime": {
     "end_time": "2023-09-17T04:57:15.929355Z",
     "start_time": "2023-09-17T04:57:15.919790Z"
    }
   },
   "outputs": [],
   "source": [
    "class UncompressedPostings:\n",
    "\n",
    "    @staticmethod\n",
    "    def encode(postings_list):\n",
    "        \"\"\"Encodes postings_list into a stream of bytes\n",
    "\n",
    "        Parameters\n",
    "        ----------\n",
    "        postings_list: List[int]\n",
    "            List of docIDs (postings)\n",
    "\n",
    "        Returns # 表示 posts_list 中整数的字节数组\n",
    "        -------\n",
    "        bytes\n",
    "            bytearray representing integers in the postings_list\n",
    "        \"\"\"\n",
    "        return array.array('L', postings_list).tobytes()\n",
    "\n",
    "    @staticmethod\n",
    "    def decode(encoded_postings_list):\n",
    "        \"\"\"Decodes postings_list from a stream of bytes\n",
    "\n",
    "        Parameters\n",
    "        ----------\n",
    "        encoded_postings_list: bytes\n",
    "            bytearray representing encoded postings list as output by encode\n",
    "            function\n",
    "\n",
    "        Returns # 从encoded_postings_list解码的docID列表\n",
    "        -------\n",
    "        List[int]\n",
    "            Decoded list of docIDs from encoded_postings_list\n",
    "        \"\"\"\n",
    "\n",
    "        decoded_postings_list = array.array('L')\n",
    "        decoded_postings_list.frombytes(encoded_postings_list)\n",
    "        return decoded_postings_list.tolist()"
   ]
  },
  {
   "cell_type": "markdown",
   "metadata": {},
   "source": [
    "运行以下代码查看其工作方式"
   ]
  },
  {
   "cell_type": "code",
   "execution_count": 13,
   "metadata": {
    "ExecuteTime": {
     "end_time": "2023-09-17T04:57:18.676695Z",
     "start_time": "2023-09-17T04:57:18.668208Z"
    }
   },
   "outputs": [
    {
     "name": "stdout",
     "output_type": "stream",
     "text": [
      "b'\\x01\\x00\\x00\\x00\\x00\\x00\\x00\\x00\\x02\\x00\\x00\\x00\\x00\\x00\\x00\\x00\\x03\\x00\\x00\\x00\\x00\\x00\\x00\\x00'\n",
      "[1, 2, 3]\n"
     ]
    }
   ],
   "source": [
    "x = UncompressedPostings.encode([1,2,3])\n",
    "print(x)\n",
    "print(UncompressedPostings.decode(x))"
   ]
  },
  {
   "cell_type": "markdown",
   "metadata": {},
   "source": [
    "## 磁盘上的倒排索引\n",
    "\n",
    "> With main memory insufficient, we need to use an external sorting algorithm, that is, one that uses disk. For acceptable speed, the central requirement of such an algorithm is that it minimize the number of random disk seeks during sorting - sequential disk reads are far faster than seeks. \n",
    "\n",
    "在这一部分我们提供了一个基类`InvertedIndex`，之后会在此基础上构建它的子类`InvertedIndexWriter`, `InvertedIndexIterator` 和 `InvertedIndexMapper`。在Python中我们常用`cPickle`进行序列化，但是它并不支持部分读和部分写，无法满足BSBI算法的需要，所以我们需要定义自己的存储方式。"
   ]
  },
  {
   "cell_type": "code",
   "execution_count": 14,
   "metadata": {
    "ExecuteTime": {
     "end_time": "2023-09-17T04:57:25.646479Z",
     "start_time": "2023-09-17T04:57:25.638746Z"
    }
   },
   "outputs": [],
   "source": [
    "class InvertedIndex: #此辅助类实现对磁盘倒排索引对高效读写\n",
    "    \"\"\"A class that implements efficient reads and writes of an inverted index\n",
    "    to disk\n",
    "\n",
    "    Attributes\n",
    "    ----------\n",
    "    postings_dict: Dictionary mapping: termID->(start_position_in_index_file,\n",
    "                                                number_of_postings_in_list,\n",
    "                                               length_in_bytes_of_postings_list)\n",
    "        This is a dictionary that maps from termIDs to a 3-tuple of metadata\n",
    "        that is helpful in reading and writing the postings in the index file\n",
    "        to/from disk. This mapping is supposed to be kept in memory.\n",
    "        start_position_in_index_file is the position (in bytes) of the postings\n",
    "        list in the index file\n",
    "        number_of_postings_in_list is the number of postings (docIDs) in the\n",
    "        postings list\n",
    "        length_in_bytes_of_postings_list is the length of the byte\n",
    "        encoding of the postings list\n",
    "\n",
    "    terms: List[int]\n",
    "        A list of termIDs to remember the order in which terms and their\n",
    "        postings lists were added to index.\n",
    "\n",
    "        After Python 3.7 we technically no longer need it because a Python dict\n",
    "        is an OrderedDict, but since it is a relatively new feature, we still\n",
    "        maintain backward compatibility with a list to keep track of order of\n",
    "        insertion.\n",
    "    \"\"\"\n",
    "    def __init__(self, index_name, postings_encoding=None, directory=''):\n",
    "        \"\"\"\n",
    "        Parameters\n",
    "        ----------\n",
    "        index_name (str): Name used to store files related to the index\n",
    "        postings_encoding: A class implementing static methods for encoding and\n",
    "            decoding lists of integers. Default is None, which gets replaced\n",
    "            with UncompressedPostings\n",
    "        directory (str): Directory where the index files will be stored\n",
    "        \"\"\"\n",
    "\n",
    "        self.index_file_path = os.path.join(directory, index_name+'.index')\n",
    "        self.metadata_file_path = os.path.join(directory, index_name+'.dict')\n",
    "\n",
    "        if postings_encoding is None:\n",
    "            self.postings_encoding = UncompressedPostings\n",
    "        else:\n",
    "            self.postings_encoding = postings_encoding\n",
    "        self.directory = directory\n",
    "\n",
    "        self.postings_dict = {} #从 termID 映射到元数据3元组的字典，有助于在磁盘上读取和写入索引文件，存储在内存中\n",
    "        #三元组的参数：\n",
    "        # 1.start_position_in_index_file：索引文件中倒排列表的位置（以字节为单位）\n",
    "        # 2.number_of_postings_in_list：列表中DocID的数量\n",
    "        # 3.length_in_bytes_of_postings_list：posting列表的字节编码长度\n",
    "\n",
    "        self.terms = []         #Need to keep track of the order in which the\n",
    "                                #terms were inserted. Would be unnecessary\n",
    "                                #from Python 3.7 onwards\n",
    "\n",
    "    def __enter__(self):\n",
    "        \"\"\"Opens the index_file and loads metadata upon entering the context\"\"\"\n",
    "        # 打开index_file并在进入上下文时加载元数据\n",
    "        # Open the index file\n",
    "        self.index_file = open(self.index_file_path, 'rb+')\n",
    "\n",
    "        # Load the postings dict and terms from the metadata file\n",
    "        with open(self.metadata_file_path, 'rb') as f:\n",
    "            self.postings_dict, self.terms = pkl.load(f)\n",
    "            self.term_iter = self.terms.__iter__()\n",
    "\n",
    "        return self\n",
    "\n",
    "    def __exit__(self, exception_type, exception_value, traceback):\n",
    "        # 退出上下文时关闭index_file并保存元数据\n",
    "        \"\"\"Closes the index_file and saves metadata upon exiting the context\"\"\"\n",
    "        # Close the index file\n",
    "        self.index_file.close()\n",
    "\n",
    "        # Write the postings dict and terms to the metadata file\n",
    "        with open(self.metadata_file_path, 'wb') as f:\n",
    "            pkl.dump([self.postings_dict, self.terms], f)"
   ]
  },
  {
   "cell_type": "markdown",
   "metadata": {},
   "source": [
    "因为是在与磁盘上的文件进行交互，所以我们提供了`__enter__`和`__exit__`函数，它使得我们能够像使用python中文件IO一样使用`with`语句。（参考[上下文管理器官方文档](https://docs.python.org/3/library/contextlib.html)）\n",
    "\n",
    "以下是使用 `InvertedIndexWriter` 上下文管理器的实例:\n",
    "\n",
    "```python\n",
    "with InvertedIndexWriter('test', directory='tmp/') as index:\n",
    "    # Some code here\n",
    "```"
   ]
  },
  {
   "cell_type": "markdown",
   "metadata": {},
   "source": [
    "## 索引\n",
    "\n",
    "> BSBI (i) segments the collection into parts of equal size, (ii) sorts the termID-docID pairs of each part in memory, (iii) stores intermediate sorted results on disk, and (iv) merges all intermediate results into the final index. \n",
    "\n",
    "你需要将每一个子目录当做一个块（block），并且在构建索引的过程中每次只能加载一个块（模拟内存不足）。注意到我们是将操作系统意义上的块进行了抽象。你可以认为每个块足够小，能被装载进内存。\n",
    "\n",
    "在这一部分，我们将阶段性地构造类`BSBIIndex`。函数`index`给出了BSBI算法的框架，而你的工作则是在接下来的部分中实现函数`parse_block`, `invert_write` 和 `merge`。"
   ]
  },
  {
   "cell_type": "code",
   "execution_count": 15,
   "metadata": {
    "ExecuteTime": {
     "end_time": "2023-09-17T04:57:39.683700Z",
     "start_time": "2023-09-17T04:57:39.677302Z"
    }
   },
   "outputs": [],
   "source": [
    "# Do not make any changes here, they will be overwritten while grading\n",
    "class BSBIIndex:\n",
    "    \"\"\"\n",
    "    Attributes\n",
    "    ----------\n",
    "    term_id_map(IdMap): For mapping terms to termIDs # 匹配term和termId\n",
    "    doc_id_map(IdMap): For mapping relative paths of documents (eg # 用于将文档的相对路径映射到 docId\n",
    "        0/3dradiology.stanford.edu_) to docIDs\n",
    "    data_dir(str): Path to data # 数据路径\n",
    "    output_dir(str): Path to output index files # 输出索引文件的路径\n",
    "    index_name(str): Name assigned to index #分配给索引的名称\n",
    "    postings_encoding: Encoding used for storing the postings. #存储posting的编码\n",
    "        The default (None) implies UncompressedPostings\n",
    "    \"\"\"\n",
    "    def __init__(self, data_dir, output_dir, index_name = \"BSBI\",\n",
    "                 postings_encoding = None):\n",
    "        self.term_id_map = IdMap()\n",
    "        self.doc_id_map = IdMap()\n",
    "        self.data_dir = data_dir\n",
    "        self.output_dir = output_dir\n",
    "        self.index_name = index_name\n",
    "        self.postings_encoding = postings_encoding\n",
    "\n",
    "        # Stores names of intermediate indices\n",
    "        self.intermediate_indices = [] # 存储中间索引的名称\n",
    "\n",
    "    def save(self):\n",
    "        \"\"\"Dumps doc_id_map and term_id_map into output directory\"\"\"\n",
    "        # 将 doc_id_map 和 term_id_map 转储到输出目录中\n",
    "        with open(os.path.join(self.output_dir, 'terms.dict'), 'wb') as f:\n",
    "            pkl.dump(self.term_id_map, f) #pickle包，用于序列化和反序列化\n",
    "        with open(os.path.join(self.output_dir, 'docs.dict'), 'wb') as f:\n",
    "            pkl.dump(self.doc_id_map, f)\n",
    "\n",
    "    def load(self):\n",
    "        \"\"\"Loads doc_id_map and term_id_map from output directory\"\"\"\n",
    "        # 从输出目录中加载 doc_id_map 和 term_id_map\n",
    "        with open(os.path.join(self.output_dir, 'terms.dict'), 'rb') as f:\n",
    "            self.term_id_map = pkl.load(f)\n",
    "        with open(os.path.join(self.output_dir, 'docs.dict'), 'rb') as f:\n",
    "            self.doc_id_map = pkl.load(f)\n",
    "\n",
    "    def index(self):\n",
    "        \"\"\"Base indexing code\n",
    "\n",
    "        This function loops through the data directories,\n",
    "        calls parse_block to parse the documents\n",
    "        calls invert_write, which inverts each block and writes to a new index\n",
    "        then saves the id maps and calls merge on the intermediate indices\n",
    "        \"\"\"\n",
    "\n",
    "        # 该函数循环遍历数据目录，调用parse_block来解析文档，调用invert_write，\n",
    "        # 反转每个块并写入新索引，然后保存id映射并在中间索引上调用merge\n",
    "        for block_dir_relative in sorted(next(os.walk(self.data_dir))[1]):\n",
    "            td_pairs = self.parse_block(block_dir_relative)\n",
    "            index_id = 'index_'+block_dir_relative\n",
    "            self.intermediate_indices.append(index_id)\n",
    "            with InvertedIndexWriter(index_id, directory=self.output_dir,\n",
    "                                     postings_encoding=\n",
    "                                     self.postings_encoding) as index:\n",
    "                self.invert_write(td_pairs, index)\n",
    "                td_pairs = None\n",
    "        self.save()\n",
    "        with InvertedIndexWriter(self.index_name, directory=self.output_dir,\n",
    "                                 postings_encoding=\n",
    "                                 self.postings_encoding) as merged_index:\n",
    "            with contextlib.ExitStack() as stack:\n",
    "                indices = [stack.enter_context(\n",
    "                    InvertedIndexIterator(index_id,\n",
    "                                          directory=self.output_dir,\n",
    "                                          postings_encoding=\n",
    "                                          self.postings_encoding))\n",
    "                 for index_id in self.intermediate_indices]\n",
    "                self.merge(indices, merged_index)"
   ]
  },
  {
   "cell_type": "markdown",
   "metadata": {},
   "source": [
    "### 解析\n",
    "\n",
    "> The function `parse_block`  parses documents into termID-docID pairs and accumulates the pairs in memory until a block of a fixed size is full. We choose the block size to fit comfortably into memory to permit a fast in-memory sort. \n",
    "\n",
    "你需要将每一个子目录当做一个块，`parse_block`接收子目录路径作为参数。同一子目录下所有文件名都是不同的。\n",
    "\n",
    "_注意 - 我们使用 `BSBIIndex` 继承 `BSBIIndex`, 这只是对一个已存在类添加新内容的简单方法。在这里只是用来切分类的定义（jupyter notebook内教学使用，无特殊含义）。_"
   ]
  },
  {
   "cell_type": "markdown",
   "source": [
    "新增函数的功能是将标记化文本文件解析为 termID-docID 对，实现思路是利用os模块，获得文件路径，并按照空格进行分割，得到token列表，然后遍历token列表进行两个id之间的匹配并加入返回值列表，最后进行返回。"
   ],
   "metadata": {
    "collapsed": false
   }
  },
  {
   "cell_type": "code",
   "execution_count": 34,
   "metadata": {
    "ExecuteTime": {
     "end_time": "2023-09-17T05:05:46.864187Z",
     "start_time": "2023-09-17T05:05:46.855303Z"
    }
   },
   "outputs": [],
   "source": [
    "class BSBIIndex(BSBIIndex):            \n",
    "    def parse_block(self, block_dir_relative):\n",
    "        \"\"\"Parses a tokenized text file into termID-docID pairs\n",
    "        \n",
    "        Parameters\n",
    "        ----------\n",
    "        block_dir_relative : str\n",
    "            Relative Path to the directory that contains the files for the block\n",
    "        \n",
    "        Returns\n",
    "        -------\n",
    "        List[Tuple[Int, Int]]\n",
    "            Returns all the td_pairs extracted from the block\n",
    "        \n",
    "        Should use self.term_id_map and self.doc_id_map to get termIDs and docIDs.\n",
    "        These persist across calls to parse_block\n",
    "        \"\"\"\n",
    "        ### Begin your code\n",
    "        td_pairs = [] # 要求返回的列表，存储的数据为2元组\n",
    "        for file_dir in sorted(os.listdir(os.path.join(self.data_dir, block_dir_relative))):\n",
    "            with open(os.path.join(self.data_dir, block_dir_relative, file_dir), 'r') as f:\n",
    "                tokens = f.read().strip().split(\" \") # 去除首尾后按空格分割，得到token列表\n",
    "                doc_id = self.doc_id_map[os.path.join(block_dir_relative, file_dir)]\n",
    "                for token in tokens:\n",
    "                    term_id = self.term_id_map[token]\n",
    "                    td_pairs.append([term_id, doc_id])\n",
    "        return td_pairs\n",
    "        ### End your code"
   ]
  },
  {
   "cell_type": "markdown",
   "metadata": {},
   "source": [
    "观察函数在测试数据上是否正常运行"
   ]
  },
  {
   "cell_type": "code",
   "execution_count": 35,
   "metadata": {
    "ExecuteTime": {
     "end_time": "2023-09-17T05:05:49.019335Z",
     "start_time": "2023-09-17T05:05:49.010402Z"
    }
   },
   "outputs": [
    {
     "name": "stdout",
     "output_type": "stream",
     "text": [
      "i'm fine , thank you\n",
      "\n",
      "hi hi\n",
      "how are you ?\n",
      "\n"
     ]
    }
   ],
   "source": [
    "with open('toy-data/0/fine.txt', 'r') as f:\n",
    "    print(f.read())\n",
    "with open('toy-data/0/hello.txt', 'r') as f:\n",
    "    print(f.read())"
   ]
  },
  {
   "cell_type": "code",
   "execution_count": 36,
   "metadata": {
    "ExecuteTime": {
     "end_time": "2023-09-17T05:05:51.037114Z",
     "start_time": "2023-09-17T05:05:51.031480Z"
    }
   },
   "outputs": [
    {
     "data": {
      "text/plain": "[[0, 0],\n [1, 0],\n [2, 0],\n [3, 0],\n [4, 0],\n [5, 1],\n [6, 1],\n [7, 1],\n [4, 1],\n [8, 1]]"
     },
     "execution_count": 36,
     "metadata": {},
     "output_type": "execute_result"
    }
   ],
   "source": [
    "BSBI_instance = BSBIIndex(data_dir=toy_dir, output_dir = 'tmp/', index_name = 'toy')\n",
    "BSBI_instance.parse_block('0')"
   ]
  },
  {
   "cell_type": "markdown",
   "metadata": {},
   "source": [
    "写一些测试样例来确保`parse_block`方法正常运行（如：相同单词出现时是相同ID）"
   ]
  },
  {
   "cell_type": "code",
   "execution_count": 19,
   "metadata": {
    "ExecuteTime": {
     "end_time": "2023-09-17T04:58:02.552288Z",
     "start_time": "2023-09-17T04:58:02.543964Z"
    }
   },
   "outputs": [
    {
     "data": {
      "text/plain": "[[[0, 0],\n  [1, 0],\n  [2, 0],\n  [3, 0],\n  [4, 0],\n  [5, 1],\n  [5, 1],\n  [6, 1],\n  [7, 1],\n  [4, 1],\n  [8, 1]],\n [[0, 2],\n  [1, 2],\n  [2, 2],\n  [3, 2],\n  [4, 2],\n  [5, 3],\n  [5, 3],\n  [6, 3],\n  [7, 3],\n  [4, 3],\n  [8, 3]]]"
     },
     "execution_count": 19,
     "metadata": {},
     "output_type": "execute_result"
    }
   ],
   "source": [
    "### Begin your code\n",
    "BSBI_instance = BSBIIndex(data_dir=toy_dir, output_dir = 'tmp/', index_name = 'toy')\n",
    "ls=[BSBI_instance.parse_block('0'),BSBI_instance.parse_block('2')]\n",
    "ls # 观察输出，相同单词出现时有相同termID\n",
    "### End your code"
   ]
  },
  {
   "cell_type": "markdown",
   "metadata": {},
   "source": [
    "### 倒排表\n",
    "\n",
    "> The block is then inverted and written to disk. Inversion involves two steps. First, we sort the termID-docID pairs. Next, we collect all termID-docID pairs with the same termID into a postings list, where a posting is simply a docID. The result, an inverted index for the block we have just read, is then written to disk.\n",
    "\n",
    "在这一部分我们添加函数`invert_write`来实现由termID-docID对构建倒排表。 \n",
    "\n",
    "但是，我们首先需要实现类`InvertedIndexWriter`。和列表类似，该类提供了append函数，但是倒排表不会存储在内存中而是直接写入到磁盘里。"
   ]
  },
  {
   "cell_type": "markdown",
   "source": [
    "在这里我们需要实现**append函数**，将词项和其倒排列表添加到索引文件的末尾，这个函数需要解决三件事情：\n",
    "- 对倒排列表进行编码\n",
    "- 用映射到的三元组形式存储元数据，这对于后面的实现很有帮助\n",
    "- 将字节形式的倒排列表添加到磁盘上的索引文件"
   ],
   "metadata": {
    "collapsed": false
   }
  },
  {
   "cell_type": "markdown",
   "source": [
    "虽然看起来做的事情比较多，但是这个函数实现并不复杂，只需要调用一些已有的模块，具体的做法请看注释："
   ],
   "metadata": {
    "collapsed": false
   }
  },
  {
   "cell_type": "code",
   "execution_count": 38,
   "metadata": {
    "ExecuteTime": {
     "end_time": "2023-09-17T05:10:33.254413Z",
     "start_time": "2023-09-17T05:10:33.245001Z"
    }
   },
   "outputs": [],
   "source": [
    "class InvertedIndexWriter(InvertedIndex):\n",
    "    \"\"\"\"\"\"\n",
    "    def __enter__(self):\n",
    "        self.index_file = open(self.index_file_path, 'wb+')\n",
    "        return self\n",
    "\n",
    "    def append(self, term, postings_list):\n",
    "        \"\"\"Appends the term and postings_list to end of the index file.\n",
    "        # 将 term 和 posting_list 附加到索引文件的末尾\n",
    "\n",
    "        This function does three things,\n",
    "        1. Encodes the postings_list using self.postings_encoding  使用 self.postings_encoding 对 posts_list 进行编码\n",
    "        2. Stores metadata in the form of self.terms and self.postings_dict\n",
    "           Note that self.postings_dict maps termID to a 3 tuple of\n",
    "           (start_position_in_index_file,\n",
    "           number_of_postings_in_list,\n",
    "           length_in_bytes_of_postings_list)\n",
    "           以 self.terms 和 self.postings_dict 的形式存储元数据 请注意，self.postings_dict 将 termID 映射到 3 元组\n",
    "           (start_position_in_index_file,number_of_postings_in_list, length_in_bytes_of_postings_list)\n",
    "        3. Appends the bytestream to the index file on disk\n",
    "            将字节流附加到磁盘上的索引文件\n",
    "        Hint: You might find it helpful to read the Python I/O docs\n",
    "        (https://docs.python.org/3/tutorial/inputoutput.html) for\n",
    "        information about appending to the end of a file.\n",
    "\n",
    "        Parameters\n",
    "        ----------\n",
    "        term:\n",
    "            term or termID is the unique identifier for the term\n",
    "        postings_list: List[Int]\n",
    "            List of docIDs where the term appears\n",
    "        \"\"\"\n",
    "\n",
    "        # First thing\n",
    "        encoded_list = self.postings_encoding.encode(postings_list) #编码\n",
    "        # Second thing\n",
    "        start_position_in_index_file = self.index_file.seek(0,2) # 开始位置就是文件的末尾\n",
    "        number_of_postings_in_list = len(postings_list) # posting列表的长度\n",
    "        # Third thing\n",
    "        length_in_bytes_of_postings_list = self.index_file.write(encoded_list) #将字节流附加到磁盘上的索引文件\n",
    "\n",
    "        # 将 term 和 posting_list 附加到索引文件的末尾\n",
    "        self.terms.append(term)\n",
    "        # self.postings_dict 将 termID 映射到 3 元组\n",
    "        self.postings_dict[term]=(start_position_in_index_file,number_of_postings_in_list,length_in_bytes_of_postings_list)\n",
    "        ### End your code"
   ]
  },
  {
   "cell_type": "markdown",
   "metadata": {},
   "source": [
    "尽管还没有实现读取索引的类，我们还是可以用以下测试代码检测我们的实现。"
   ]
  },
  {
   "cell_type": "code",
   "execution_count": 39,
   "metadata": {
    "ExecuteTime": {
     "end_time": "2023-09-17T05:10:35.708301Z",
     "start_time": "2023-09-17T05:10:35.697091Z"
    }
   },
   "outputs": [],
   "source": [
    "with InvertedIndexWriter('test', directory='tmp/') as index:\n",
    "    index.append(1, [2, 3, 4])\n",
    "    index.append(2, [3, 4, 5])\n",
    "    index.index_file.seek(0)\n",
    "    assert index.terms == [1,2], \"terms sequence incorrect\"\n",
    "    assert index.postings_dict == {1: (0, 3, len(UncompressedPostings.encode([2,3,4]))), \n",
    "                                   2: (len(UncompressedPostings.encode([2,3,4])), 3, \n",
    "                                       len(UncompressedPostings.encode([3,4,5])))}, \"postings_dict incorrect\"\n",
    "    assert UncompressedPostings.decode(index.index_file.read()) == [2, 3, 4, 3, 4, 5], \"postings on disk incorrect\""
   ]
  },
  {
   "cell_type": "markdown",
   "metadata": {},
   "source": [
    "现在我们实现 `invert_write`，它将解析得到的td_pairs转换成倒排表，并使用`InvertedIndexWriter` 类将其写入磁盘。"
   ]
  },
  {
   "cell_type": "markdown",
   "source": [
    "这里需要实现将 td_pairs 反转为 posting_lists 并将它们写入给定索引的功能，利用了一个辅助类：collections.defaultdict(list)，这会建立一个字典，其value的类型为一个列表，特别的是，当其key为空时，不会引发异常，而是会返回一个空列表，这很适合我们实现这个功能。具体的实现方法比较简单，只需要进行两次遍历，一次用于构建这个特殊的字典，一个用于写入index。"
   ],
   "metadata": {
    "collapsed": false
   }
  },
  {
   "cell_type": "code",
   "execution_count": 40,
   "metadata": {
    "ExecuteTime": {
     "end_time": "2023-09-17T05:10:37.707978Z",
     "start_time": "2023-09-17T05:10:37.698147Z"
    }
   },
   "outputs": [],
   "source": [
    "class BSBIIndex(BSBIIndex):\n",
    "    def invert_write(self, td_pairs, index):\n",
    "        \"\"\"Inverts td_pairs into postings_lists and writes them to the given index\n",
    "        \n",
    "        Parameters\n",
    "        ----------\n",
    "        td_pairs: List[Tuple[Int, Int]]\n",
    "            List of termID-docID pairs\n",
    "        index: InvertedIndexWriter\n",
    "            Inverted index on disk corresponding to the block       \n",
    "        \"\"\"\n",
    "        ### Begin your code\n",
    "        # 使用collections.defaultdict 创建一个字典，其值类型为列表\n",
    "        curr_index = defaultdict(list)\n",
    "        for term,doc in td_pairs:\n",
    "            curr_index[term].append(doc)\n",
    "        # 接下来 对每个列表进行排序，并加入到最后的index中\n",
    "        for term in sorted(curr_index.keys()):\n",
    "            sorted_list = sorted(curr_index[term])\n",
    "            index.append(term,sorted_list)\n",
    "        ### End your code"
   ]
  },
  {
   "cell_type": "markdown",
   "metadata": {},
   "source": [
    "我们可以在测试数据上读取一个块并观察倒排索引中包含的内容。\n",
    "仿照`InvertedIndexWriter`部分写一些测试样例。"
   ]
  },
  {
   "cell_type": "code",
   "execution_count": 41,
   "metadata": {
    "ExecuteTime": {
     "end_time": "2023-09-17T05:10:45.145268Z",
     "start_time": "2023-09-17T05:10:45.135548Z"
    }
   },
   "outputs": [
    {
     "name": "stdout",
     "output_type": "stream",
     "text": [
      "{0: (0, 1, 8), 1: (8, 1, 8), 2: (16, 1, 8), 3: (24, 1, 8), 4: (32, 2, 16), 5: (48, 1, 8), 6: (56, 1, 8), 7: (64, 1, 8), 8: (72, 1, 8)}\n"
     ]
    }
   ],
   "source": [
    "### Begin your code\n",
    "instance = BSBIIndex(data_dir=toy_dir,output_dir='tmp/',index_name='toy')\n",
    "test_block = instance.parse_block('0')\n",
    "with InvertedIndexWriter('test', directory='tmp/') as index:\n",
    "    instance.invert_write(test_block,index)\n",
    "    assert index.terms == [0,1,2,3,4,5,6,7,8]\n",
    "    print(index.postings_dict) #输出较多，这里不采用断言，直接查看结果\n",
    "### End your code"
   ]
  },
  {
   "cell_type": "markdown",
   "metadata": {},
   "source": [
    "### 合并\n",
    "> The algorithm simultaneously merges the ten blocks into one large merged index. To do the merging, we open all block files simultaneously, and maintain small read buffers for the ten blocks we are reading and a write buffer for the final merged index we are writing. \n",
    "\n",
    "Python中的迭代模型非常自然地符合我们维护一个小的读缓存的要求。我们可以迭代地从磁盘上每次读取文件的一个倒排列表。我们通过构建`InvertedIndex`的子类`InvertedIndexIterator`来完成这个迭代任务。"
   ]
  },
  {
   "cell_type": "markdown",
   "source": [
    "这里实现了一个类似迭代器的功能，在_initialization_hook函数中定义了一个hook，初始化为0，表示指向第一个元素，然后next函数就利用这个hook，从三元组中获取信息并增加偏移量，总体来说实现较为简单。"
   ],
   "metadata": {
    "collapsed": false
   }
  },
  {
   "cell_type": "code",
   "execution_count": 42,
   "metadata": {
    "ExecuteTime": {
     "end_time": "2023-09-17T05:10:50.559092Z",
     "start_time": "2023-09-17T05:10:50.551461Z"
    }
   },
   "outputs": [],
   "source": [
    "class InvertedIndexIterator(InvertedIndex):\n",
    "    \"\"\"\"\"\"\n",
    "    def __enter__(self):\n",
    "        \"\"\"Adds an initialization_hook to the __enter__ function of super class\n",
    "        \"\"\"\n",
    "        super().__enter__()\n",
    "        self._initialization_hook()\n",
    "        return self\n",
    "\n",
    "    def _initialization_hook(self):\n",
    "        \"\"\"Use this function to initialize the iterator\n",
    "        \"\"\"\n",
    "        ### Begin your code\n",
    "        self.curr_term_pos = 0 # 钩子，理解为一个指针，初始时指向第一个元素\n",
    "        ### End your code\n",
    "\n",
    "    def __iter__(self): \n",
    "        return self\n",
    "    \n",
    "    def __next__(self):\n",
    "        \"\"\"Returns the next (term, postings_list) pair in the index.\n",
    "        \n",
    "        Note: This function should only read a small amount of data from the \n",
    "        index file. In particular, you should not try to maintain the full \n",
    "        index file in memory.\n",
    "        \"\"\"\n",
    "        ### Begin your code\n",
    "        if(self.curr_term_pos<len(self.terms)):\n",
    "            term = self.terms[self.curr_term_pos] # 获取当前Hook所指元素\n",
    "            self.curr_term_pos+=1 # 增加偏移量\n",
    "            # 从字典映射的三元组中获取信息\n",
    "            (start_position_in_index_file, number_of_postings_in_list,length_in_bytes_of_postings_list) = self.postings_dict[term]\n",
    "            postings_list = self.postings_encoding.decode(self.index_file.read(length_in_bytes_of_postings_list))\n",
    "            return term,postings_list\n",
    "        else:\n",
    "            raise StopIteration # Hook越界，抛出迭代完成异常\n",
    "        ### End your code\n",
    "\n",
    "    def delete_from_disk(self):\n",
    "        \"\"\"Marks the index for deletion upon exit. Useful for temporary indices\n",
    "        \"\"\"\n",
    "        self.delete_upon_exit = True\n",
    "\n",
    "    def __exit__(self, exception_type, exception_value, traceback):\n",
    "        \"\"\"Delete the index file upon exiting the context along with the\n",
    "        functions of the super class __exit__ function\"\"\"\n",
    "        self.index_file.close()\n",
    "        if hasattr(self, 'delete_upon_exit') and self.delete_upon_exit:\n",
    "            os.remove(self.index_file_path)\n",
    "            os.remove(self.metadata_file_path)\n",
    "        else:\n",
    "            with open(self.metadata_file_path, 'wb') as f:\n",
    "                pkl.dump([self.postings_dict, self.terms], f)"
   ]
  },
  {
   "cell_type": "markdown",
   "metadata": {},
   "source": [
    "为了测试以上代码，我们先用`InvertedIndexWriter` 创建索引，然后再迭代遍历。写一些小的测试样例观察它是否正常运行。至少你得写一个测试，手工构建一个小的索引，用`InvertedIndexWriter`将他们写入磁盘，然后用`InvertedIndexIterator`迭代遍历倒排索引。"
   ]
  },
  {
   "cell_type": "code",
   "execution_count": 43,
   "metadata": {
    "ExecuteTime": {
     "end_time": "2023-09-17T05:10:54.998387Z",
     "start_time": "2023-09-17T05:10:54.987573Z"
    }
   },
   "outputs": [],
   "source": [
    "### Begin your code\n",
    "with InvertedIndexWriter('toy_3', directory='tmp/') as index:\n",
    "    index.append(1, [2, 3, 4])\n",
    "    index.append(2, [3, 4, 5])\n",
    "with InvertedIndexIterator('toy_3', directory='tmp/') as index:\n",
    "    assert next(index) == (1, [2, 3, 4])\n",
    "    assert next(index) == (2, [3, 4, 5])\n",
    "### End your code"
   ]
  },
  {
   "cell_type": "markdown",
   "metadata": {},
   "source": [
    "> During merging, in each iteration, we select the lowest termID that has not been processed yet using a priority queue or a similar data structure. All postings lists for this termID are read and merged, and the merged list is written back to disk. Each read buffer is refilled from its file when necessary.\n",
    "\n",
    "我们将使用`InvertedIndexIterator`来完成读取的部分，用`InvertedIndexWriter`来将合并后的索引写入磁盘。\n",
    "\n",
    "注意到我们之前一直使用`with` 语句来打开倒排索引文件，但是现在需要程序化地完成这项工作。可以看到我们在基类`BSBIIndex`的`index`函数中使用了`contextlib`([参考文档](https://docs.python.org/3/library/contextlib.html#contextlib.ExitStack))\n",
    "你的任务是合并*打开的*`InvertedIndexIterator`对象（倒排列表），并且通过一个`InvertedIndexWriter`对象每次写入一个文档列表。\n",
    "\n",
    "既然我们知道文档列表已经排过序了，那么我们可以在线性时间内对它们进行合并排序。事实上`heapq`([参考文档](https://docs.python.org/3.0/library/heapq.html)) 是Python中一个实现了堆排序算法的标准模板。另外它还包含一个实用的函数`heapq.merge`，可以将多个已排好序的输入（可迭代）合并成一个有序的输出并返回它的迭代器。它不仅可以用来合并倒排列表，也可以合并倒排索引词典。\n",
    "\n",
    "为了让你快速上手`heapq.merge`函数，我们提供了一个简单的使用样例。给出两个以动物和树平均寿命排序的列表，我们希望合并它们。"
   ]
  },
  {
   "cell_type": "code",
   "execution_count": 20,
   "metadata": {
    "ExecuteTime": {
     "end_time": "2023-09-17T03:15:02.327438Z",
     "start_time": "2023-09-17T03:15:02.304552Z"
    }
   },
   "outputs": [
    {
     "name": "stdout",
     "output_type": "stream",
     "text": [
      "('Giraffe', 28)\n",
      "('Rhinoceros', 40)\n",
      "('Gray Birch', 50)\n",
      "('Indian Elephant', 70)\n",
      "('Black Willow', 70)\n",
      "('Golden Eagle', 80)\n",
      "('Basswood', 100)\n",
      "('Box turtle', 123)\n",
      "('Bald Cypress', 600)\n"
     ]
    }
   ],
   "source": [
    "import heapq\n",
    "animal_lifespans = [('Giraffe', 28), \n",
    "                   ('Rhinoceros', 40), \n",
    "                   ('Indian Elephant', 70), \n",
    "                   ('Golden Eagle', 80), \n",
    "                   ('Box turtle', 123)]\n",
    "\n",
    "tree_lifespans = [('Gray Birch', 50), \n",
    "                  ('Black Willow', 70), \n",
    "                  ('Basswood', 100),\n",
    "                  ('Bald Cypress', 600)]\n",
    "\n",
    "lifespan_lists = [animal_lifespans, tree_lifespans]\n",
    "\n",
    "for merged_item in heapq.merge(*lifespan_lists, key=lambda x: x[1]):\n",
    "    print(merged_item)"
   ]
  },
  {
   "cell_type": "markdown",
   "metadata": {},
   "source": [
    "注意使用`*`将`lifespan_lists`解包作为参数，并且使用`lambda`函数来给出进行排序的key。如果你对它们不熟悉可以参考文档([unpacking lists](https://docs.python.org/3/tutorial/controlflow.html#unpacking-argument-lists), [lambda expressions](https://docs.python.org/3/tutorial/controlflow.html#lambda-expressions))。"
   ]
  },
  {
   "cell_type": "markdown",
   "source": [
    "**merge函数**将将多个倒排索引合并为单个索引，这个函数的实现非常关键，因为它要将整个数据集构建索引，~~但即使编写的函数通过了测试也不代表我的索引写对了，痛苦debug两三天~~。这个函数的逻辑较为复杂，我们首先定义两个指针，分别指向词项和倒排列表，初始化为None，然后对indices解引用进行遍历，如果指针指向的词项和当前词项相同，那么直接附加倒排列表即可，如果不相同，还需要判断指针是否为空(即是不是第一次循环)，如果不是那么排序去重后进行赋值，是的话不做任何操作。循环体结束后指针偏移量增加，在最后，将两个指针指向的词项和倒排索引附加到合并索引当中。"
   ],
   "metadata": {
    "collapsed": false
   }
  },
  {
   "cell_type": "code",
   "execution_count": 52,
   "metadata": {
    "ExecuteTime": {
     "end_time": "2023-09-17T05:34:39.799487Z",
     "start_time": "2023-09-17T05:34:39.788826Z"
    }
   },
   "outputs": [],
   "source": [
    "import heapq\n",
    "class BSBIIndex(BSBIIndex):\n",
    "    def merge(self, indices, merged_index):\n",
    "        \"\"\"Merges multiple inverted indices into a single index\n",
    "        \n",
    "        Parameters\n",
    "        ----------\n",
    "        indices: List[InvertedIndexIterator]\n",
    "            A list of InvertedIndexIterator objects, each representing an\n",
    "            iterable inverted index for a block\n",
    "        merged_index: InvertedIndexWriter\n",
    "            An instance of InvertedIndexWriter object into which each merged \n",
    "            postings list is written out one at a time\n",
    "        \"\"\"\n",
    "        ### Begin your code\n",
    "        curr_term = None\n",
    "        curr_posting = None\n",
    "        for term, postings in heapq.merge(*indices,key=lambda x:x[0]):\n",
    "            if term != curr_term :\n",
    "                if curr_term is not None: # 即不是第一次循环且两个词项不相同，那么去重排序后进行添加\n",
    "                    curr_posting = sorted(pd.Series(curr_posting).drop_duplicates().tolist())\n",
    "                    merged_index.append(curr_term, curr_posting)\n",
    "                curr_term = term # 偏移量增加\n",
    "                curr_posting = postings\n",
    "            else: # 两个term相同，直接附加倒排列表\n",
    "                curr_posting += postings\n",
    "        if curr_term is not None:\n",
    "            curr_posting = sorted(pd.Series(curr_posting).drop_duplicates().tolist())\n",
    "            merged_index.append(curr_term,curr_posting)\n",
    "        ### End your code"
   ]
  },
  {
   "cell_type": "markdown",
   "metadata": {},
   "source": [
    "首先确保它在测试数据上正常运行"
   ]
  },
  {
   "cell_type": "code",
   "execution_count": 53,
   "metadata": {
    "ExecuteTime": {
     "end_time": "2023-09-17T05:34:41.963533Z",
     "start_time": "2023-09-17T05:34:41.949893Z"
    }
   },
   "outputs": [],
   "source": [
    "BSBI_instance = BSBIIndex(data_dir=toy_dir, output_dir = 'toy_output_dir', )\n",
    "BSBI_instance.index()"
   ]
  },
  {
   "cell_type": "markdown",
   "metadata": {},
   "source": [
    "接下来对整个数据集构建索引"
   ]
  },
  {
   "cell_type": "code",
   "execution_count": 54,
   "metadata": {
    "ExecuteTime": {
     "end_time": "2023-09-17T05:35:31.684105Z",
     "start_time": "2023-09-17T05:34:47.580788Z"
    }
   },
   "outputs": [],
   "source": [
    "BSBI_instance = BSBIIndex(data_dir='pa1-data', output_dir = 'output_dir', )\n",
    "BSBI_instance.index()"
   ]
  },
  {
   "cell_type": "markdown",
   "metadata": {},
   "source": [
    "如果你在合并阶段出现了错误，可以利用以下代码来debug。"
   ]
  },
  {
   "cell_type": "code",
   "execution_count": 24,
   "metadata": {
    "ExecuteTime": {
     "end_time": "2023-09-17T03:16:15.251694Z",
     "start_time": "2023-09-17T03:15:56.146757Z"
    }
   },
   "outputs": [],
   "source": [
    "BSBI_instance = BSBIIndex(data_dir='pa1-data', output_dir = 'output_dir', )\n",
    "BSBI_instance.intermediate_indices = ['index_'+str(i) for i in range(10)]\n",
    "with InvertedIndexWriter(BSBI_instance.index_name, directory=BSBI_instance.output_dir, postings_encoding=BSBI_instance.postings_encoding) as merged_index:\n",
    "    with contextlib.ExitStack() as stack:\n",
    "        indices = [stack.enter_context(InvertedIndexIterator(index_id, directory=BSBI_instance.output_dir, postings_encoding=BSBI_instance.postings_encoding)) for index_id in BSBI_instance.intermediate_indices]\n",
    "        BSBI_instance.merge(indices, merged_index)"
   ]
  },
  {
   "cell_type": "markdown",
   "metadata": {},
   "source": [
    "## 布尔联合检索 (10%)\n",
    "\n",
    "我们将实现BSBIIndex中的`retrieve`函数，对于给定的包含由空格分隔tokens的字符串查询，返回包含查询中所有tokens的文档列表。但是我们并不能迭代遍历整个索引或者将整个索引加载到内存来寻找相应的terms（索引太大）。\n",
    "\n",
    "首先我们要实现`InvertedIndex`的子类`InvertedIndexMapper`，它能够找到对应terms在索引文件中位置并取出它的倒排记录表。"
   ]
  },
  {
   "cell_type": "markdown",
   "source": [
    "这个函数实现较为简单，得益于之前实现的dict的三元组，具体做法参考注释："
   ],
   "metadata": {
    "collapsed": false
   }
  },
  {
   "cell_type": "code",
   "execution_count": 55,
   "metadata": {
    "ExecuteTime": {
     "end_time": "2023-09-17T05:35:36.867746Z",
     "start_time": "2023-09-17T05:35:36.858051Z"
    }
   },
   "outputs": [],
   "source": [
    "class InvertedIndexMapper(InvertedIndex):\n",
    "    def __getitem__(self, key):\n",
    "        return self._get_postings_list(key)\n",
    "    \n",
    "    def _get_postings_list(self, term):\n",
    "        \"\"\"Gets a postings list (of docIds) for `term`.\n",
    "        此函数不应迭代索引文件，即它应该只需要从索引文件中读取与请求术语的postings列表相对应的字节\n",
    "        This function should not iterate through the index file.\n",
    "        I.e., it should only have to read the bytes from the index file\n",
    "        corresponding to the postings list for the requested term.\n",
    "        \"\"\"\n",
    "        ### Begin your code\n",
    "        # 从字典映射的三元组中获取信息\n",
    "        (start_position_in_index_file, number_of_postings_in_list,length_in_bytes_of_postings_list) = self.postings_dict[term]\n",
    "        # 初始化索引文件并把索引文件定位到想要的开始位置\n",
    "        self.index_file.seek(start_position_in_index_file)\n",
    "        # 读取倒排列表对应的字节\n",
    "        return self.postings_encoding.decode(self.index_file.read(length_in_bytes_of_postings_list))\n",
    "        ### End your code"
   ]
  },
  {
   "cell_type": "markdown",
   "metadata": {},
   "source": [
    "写一些测试样例检测`_get_postings_list`的实现"
   ]
  },
  {
   "cell_type": "code",
   "execution_count": 26,
   "metadata": {
    "ExecuteTime": {
     "end_time": "2023-09-17T03:16:21.121365Z",
     "start_time": "2023-09-17T03:16:21.112790Z"
    }
   },
   "outputs": [
    {
     "data": {
      "text/plain": "[1, 1, 4, 5, 1]"
     },
     "execution_count": 26,
     "metadata": {},
     "output_type": "execute_result"
    }
   ],
   "source": [
    "### Begin your code\n",
    "# 原神，启动！\n",
    "InvertedIndexMapper_instance = InvertedIndexMapper(index_name='toy-test',directory='tmp/')\n",
    "InvertedIndexMapper_instance.index_file_path = os.path.join('tmp/toy_test.index')\n",
    "InvertedIndexMapper_instance.index_file = open(InvertedIndexMapper_instance.index_file_path, 'rb+')\n",
    "InvertedIndexMapper_instance.postings_dict['genshin'] = [0,10,40]\n",
    "InvertedIndexMapper_instance.postings_dict['start'] = [0,20,80]\n",
    "InvertedIndexMapper_instance._get_postings_list('genshin')\n",
    "### End your code"
   ]
  },
  {
   "cell_type": "markdown",
   "metadata": {},
   "source": [
    "现在我们获得了查询中terms对应的倒排记录表，接着需要求他们的交集。这部分与我们之前作业的merge方法类似，请实现`sorted_intersect`函数，遍历两个有序列表并在线性时间内合并。"
   ]
  },
  {
   "cell_type": "markdown",
   "source": [
    "此函数在线性时间内对两个有序列表求交，实现思路很简单，定义两个指针进行遍历，哪个小就移动哪个指针，如果相等就向结果列表中添加元素，并同时移动两个指针"
   ],
   "metadata": {
    "collapsed": false
   }
  },
  {
   "cell_type": "code",
   "execution_count": 56,
   "metadata": {
    "ExecuteTime": {
     "end_time": "2023-09-17T05:35:39.920267Z",
     "start_time": "2023-09-17T05:35:39.910536Z"
    }
   },
   "outputs": [],
   "source": [
    "def sorted_intersect(list1, list2):\n",
    "    \"\"\"Intersects two (ascending) sorted lists and returns the sorted result\n",
    "    \n",
    "    Parameters\n",
    "    ----------\n",
    "    list1: List[Comparable]\n",
    "    list2: List[Comparable]\n",
    "        Sorted lists to be intersected\n",
    "        \n",
    "    Returns\n",
    "    -------\n",
    "    List[Comparable]\n",
    "        Sorted intersection        \n",
    "    \"\"\"\n",
    "    ### Begin your code\n",
    "    # 初始化两个指针为0\n",
    "    curr_index1 = 0\n",
    "    curr_index2 = 0\n",
    "    merged_list = []\n",
    "    while curr_index1 < len(list1) and curr_index2 < len(list2):\n",
    "        if list1[curr_index1] < list2[curr_index2]:\n",
    "            curr_index1 += 1\n",
    "        elif list1[curr_index1] >list2[curr_index2]:\n",
    "            curr_index2 += 1\n",
    "        else:\n",
    "            merged_list.append(list1[curr_index1])\n",
    "            curr_index1 += 1\n",
    "            curr_index2 += 1\n",
    "    return merged_list\n",
    "    ### End your code"
   ]
  },
  {
   "cell_type": "markdown",
   "metadata": {},
   "source": [
    "简单的测试样例"
   ]
  },
  {
   "cell_type": "code",
   "execution_count": 28,
   "metadata": {
    "ExecuteTime": {
     "end_time": "2023-09-17T03:16:25.509191Z",
     "start_time": "2023-09-17T03:16:25.499371Z"
    }
   },
   "outputs": [
    {
     "data": {
      "text/plain": "[1, 4514]"
     },
     "execution_count": 28,
     "metadata": {},
     "output_type": "execute_result"
    }
   ],
   "source": [
    "### Begin your code\n",
    "list1 = [1,14,51,411,4514]\n",
    "list2 = [1,9,198,1019,4514]\n",
    "merged_list = sorted_intersect(list1,list2)\n",
    "merged_list\n",
    "### End your code"
   ]
  },
  {
   "cell_type": "markdown",
   "metadata": {},
   "source": [
    "现在可以利用`sorted_intersect` 和 `InvertedIndexMapper`来实现`retrieve`函数。"
   ]
  },
  {
   "cell_type": "markdown",
   "source": [
    "这里要求实现检索与联合查询对应的文档的功能，这个函数也十分重要，关系到查询结果的正确与否，~~这个函数虽然看起来平平无奇，但却是这个实验最浪费时间的，它让我不得不回去找到了两个bug~~。实现思路现在看起来比较简单：利用前面实现的mapper，对查询(按空格分割)进行遍历，如果循环是第一次，那么直接把这个结果赋值给result，否则就要和当前词项求交并赋值。**最重要的一点是，get函数不总能拿到query对应的词项id**，这个时候直接返回空列表即可。"
   ],
   "metadata": {
    "collapsed": false
   }
  },
  {
   "cell_type": "code",
   "execution_count": 57,
   "metadata": {
    "ExecuteTime": {
     "end_time": "2023-09-17T05:35:43.396597Z",
     "start_time": "2023-09-17T05:35:43.386805Z"
    }
   },
   "outputs": [],
   "source": [
    "class BSBIIndex(BSBIIndex):\n",
    "    def retrieve(self, query):\n",
    "        \"\"\"Retrieves the documents corresponding to the conjunctive query\n",
    "\n",
    "        Parameters\n",
    "        ----------\n",
    "        query: str\n",
    "            Space separated list of query tokens\n",
    "\n",
    "        Result\n",
    "        ------\n",
    "        List[str]\n",
    "            Sorted list of documents which contains each of the query tokens.\n",
    "            Should be empty if no documents are found.\n",
    "\n",
    "        Should NOT throw errors for terms not in corpus\n",
    "        \"\"\"\n",
    "        if len(self.term_id_map) == 0 or len(self.doc_id_map) == 0:\n",
    "            self.load()\n",
    "\n",
    "        ### Begin your code\n",
    "        with InvertedIndexMapper(self.index_name, directory=self.output_dir, postings_encoding=self.postings_encoding) as mapper:\n",
    "            result = None\n",
    "            for token in query.split():\n",
    "                tid = self.term_id_map.str_to_id.get(token)\n",
    "                if tid is None or tid is False: # 如果tid为空或没有拿到，返回空列表\n",
    "                    return []\n",
    "                if result is None: # 如果循环是第一次，那么直接赋值\n",
    "                    result = mapper[tid]\n",
    "                else:\n",
    "                    result = sorted_intersect(result,mapper[tid]) # 否则就和这个词项归并求交\n",
    "            docs = [self.doc_id_map[tid] for tid in result]\n",
    "        return docs\n",
    "        ### End your code"
   ]
  },
  {
   "cell_type": "markdown",
   "metadata": {},
   "source": [
    "通过一个简单的查询来测试索引在真实数据集上是否正常工作。"
   ]
  },
  {
   "cell_type": "code",
   "execution_count": 60,
   "metadata": {
    "ExecuteTime": {
     "end_time": "2023-09-17T05:45:52.027370Z",
     "start_time": "2023-09-17T05:45:51.863744Z"
    }
   },
   "outputs": [
    {
     "data": {
      "text/plain": "['1/cs276.stanford.edu_',\n '1/cs276a.stanford.edu_',\n '3/infolab.stanford.edu_TR_CS-TN-95-21.html',\n '4/nlp.stanford.edu_IR-book_',\n '4/nlp.stanford.edu_IR-book_html_htmledition_an-appraisal-of-probabilistic-models-1.html',\n '4/nlp.stanford.edu_IR-book_html_htmledition_bayesian-network-approaches-to-ir-1.html',\n '4/nlp.stanford.edu_IR-book_html_htmledition_boolean-retrieval-2.html',\n '4/nlp.stanford.edu_IR-book_html_htmledition_computing-scores-in-a-complete-search-system-1.html',\n '4/nlp.stanford.edu_IR-book_html_htmledition_dictionaries-and-tolerant-retrieval-1.html',\n '4/nlp.stanford.edu_IR-book_html_htmledition_efficient-scoring-and-ranking-1.html',\n '4/nlp.stanford.edu_IR-book_html_htmledition_inexact-top-k-document-retrieval-1.html',\n '4/nlp.stanford.edu_IR-book_html_htmledition_probabilistic-information-retrieval-1.html',\n '4/nlp.stanford.edu_IR-book_html_htmledition_putting-it-all-together-1.html',\n '4/nlp.stanford.edu_IR-book_html_htmledition_references-and-further-reading-1.html',\n '4/nlp.stanford.edu_IR-book_html_htmledition_the-search-user-experience-1.html',\n '4/nlp.stanford.edu_IR-book_html_htmledition_vector-space-scoring-and-query-operator-interaction-1.html',\n '4/nlp.stanford.edu_IR-book_html_htmledition_weighted-zone-scoring-1.html',\n '4/nlp.stanford.edu_IR-book_html_htmledition_wildcard-queries-2.html',\n '4/nlp.stanford.edu_IR-book_newslides.html',\n '6/www-nlp.stanford.edu_IR-book_essir2011_',\n '8/www.stanford.edu_class_cs124_']"
     },
     "execution_count": 60,
     "metadata": {},
     "output_type": "execute_result"
    }
   ],
   "source": [
    "BSBI_instance = BSBIIndex(data_dir='pa1-data', output_dir = 'output_dir', )\n",
    "BSBI_instance.retrieve('boolean retrieval')"
   ]
  },
  {
   "cell_type": "markdown",
   "metadata": {},
   "source": [
    "你也可以通过读取文件来测试其中的页面是否真的包含了查询的terms"
   ]
  },
  {
   "cell_type": "code",
   "execution_count": 31,
   "metadata": {
    "ExecuteTime": {
     "end_time": "2023-09-17T03:16:32.370738Z",
     "start_time": "2023-09-17T03:16:32.363514Z"
    }
   },
   "outputs": [
    {
     "name": "stdout",
     "output_type": "stream",
     "text": [
      "cs276 information retrieval and web search cs 276 ling 286 information retrieval and web search spring 2011 pandu nayak and prabhakar raghavan lecture 3 units tu th 4 15 5 30 gates b03 tas sonali aggarwal ivan cui valentin spitkovsky and sandeep sripada staff e mail cs276 spr1011 staff lists stanford edu lectures are also available online and on television through scpd sitn course description basic and advanced techniques for text based information systems efficient text indexing boolean and vector space retrieval models evaluation and interface issues web search including crawling link based algorithms and web metadata text web clustering classification text mining syllabus additional information staff contact information piazzza we strongly recommend students to post questions to the course page on www piazzza com instead of sending emails this forum enables students to discuss the questions they encounter in lectures or assignments here is a quick introduction video email if you have a question not appropriate for the piazzza forum eg one that is only relevant to your situation or one that reveals part of your solution to a homework question please email the staff mailing list at cs276 spr1011 staff lists stanford edu professor pandu nayak office none on campus office hours by appointment email nayak cs stanford edu professor prabhakar raghavan office none on campus office hours by appointment email pragh cs stanford edu ta sonali aggarwal office location b26 a ph 650 723 6319 office hours wednesday 4 30pm 6 30pm email sonali9 stanford edu ta ivan cui office location b26 b ph 650 736 1817 office hours monday 2 15pm 4 15pm email ivancui stanford edu ta valentin spitkovsky office location gates 228 second floor office hours thursday 2 15pm 4 15pm email vals stanford edu ta sandeep sripada office location b26 a ph 650 723 6319 office hours tuesday 5 30pm 7 30pm remember to carry your stanford id to open the basement doors email sss cs stanford edu announcements if you are not registered in the course but wish to receive course announcements you may subscribe to the guest mailing list cs276 spr1011 guests lists stanford edu textbook introduction to information retrieval by c manning p raghavan and h schutze cambridge university press available from the stanford bookstore or other fine retailers you can also download and print chapters at the book website prerequisites cs 103b and cs 107 and any one of cs 121 cs 145 or cs 161 or equivalent background programming experience will be necessary for the two practical exercises related courses introduction to computational advertising http www stanford edu class msande239\n",
      "\n"
     ]
    }
   ],
   "source": [
    "with open(\"pa1-data/1/cs276.stanford.edu_\", 'r') as f:\n",
    "    print(f.read())"
   ]
  },
  {
   "cell_type": "markdown",
   "metadata": {},
   "source": [
    "测试dev queries（提前构建好的查询与结果）是否正确"
   ]
  },
  {
   "cell_type": "code",
   "execution_count": 59,
   "metadata": {
    "ExecuteTime": {
     "end_time": "2023-09-17T05:35:52.002615Z",
     "start_time": "2023-09-17T05:35:50.935799Z"
    }
   },
   "outputs": [
    {
     "name": "stdout",
     "output_type": "stream",
     "text": [
      "Results match for query: we are\n",
      "Results match for query: stanford class\n",
      "Results match for query: stanford students\n",
      "Results match for query: very cool\n",
      "Results match for query: the\n",
      "Results match for query: a\n",
      "Results match for query: the the\n",
      "Results match for query: stanford computer science\n"
     ]
    }
   ],
   "source": [
    "for i in range(1, 9):\n",
    "    with open('dev_queries/query.' + str(i)) as q:\n",
    "        query = q.read()\n",
    "        my_results = [os.path.normpath(path) for path in BSBI_instance.retrieve(query)]\n",
    "        with open('dev_output/' + str(i) + '.out') as o:\n",
    "            reference_results = [os.path.normpath(x.strip()) for x in o.readlines()]\n",
    "            assert my_results == reference_results, \"Results DO NOT match for query: \"+query.strip()\n",
    "        print(\"Results match for query:\", query.strip())"
   ]
  },
  {
   "cell_type": "markdown",
   "metadata": {},
   "source": [
    "如果出现了错误，可以通过以下代码比较输出与正确结果的差异"
   ]
  },
  {
   "cell_type": "code",
   "execution_count": 33,
   "metadata": {
    "ExecuteTime": {
     "end_time": "2023-09-17T03:16:38.802536Z",
     "start_time": "2023-09-17T03:16:38.795021Z"
    }
   },
   "outputs": [
    {
     "data": {
      "text/plain": "set()"
     },
     "execution_count": 33,
     "metadata": {},
     "output_type": "execute_result"
    }
   ],
   "source": [
    "set(my_results) - set(reference_results)"
   ]
  },
  {
   "cell_type": "code",
   "execution_count": 34,
   "metadata": {
    "ExecuteTime": {
     "end_time": "2023-09-17T03:16:40.812763Z",
     "start_time": "2023-09-17T03:16:40.786275Z"
    }
   },
   "outputs": [
    {
     "data": {
      "text/plain": "set()"
     },
     "execution_count": 34,
     "metadata": {},
     "output_type": "execute_result"
    }
   ],
   "source": [
    "set(reference_results) - set(my_results)"
   ]
  },
  {
   "cell_type": "markdown",
   "metadata": {},
   "source": [
    "确保你构建自己的查询来测试所有可能的边界情况，例如数据集中没有出现的terms，或者拖慢合并的频繁出现的terms。"
   ]
  },
  {
   "cell_type": "markdown",
   "metadata": {},
   "source": [
    "# 索引压缩  (30%)"
   ]
  },
  {
   "cell_type": "markdown",
   "metadata": {},
   "source": [
    "在这部分，你将使用可变长字节编码对索引进行压缩。（gap-encoding可选，对gap进行编码）\n",
    "\n",
    "下面几个Python运算符可能对你有帮助"
   ]
  },
  {
   "cell_type": "code",
   "execution_count": 279,
   "metadata": {
    "ExecuteTime": {
     "end_time": "2023-09-17T03:11:53.964166Z",
     "start_time": "2023-09-17T03:11:53.954894Z"
    }
   },
   "outputs": [
    {
     "name": "stdout",
     "output_type": "stream",
     "text": [
      "10 % 2 =  0\n",
      "10 % 3 =  1\n",
      "10 / 3 =  3.3333333333333335\n",
      "10 // 3 =  3\n"
     ]
    }
   ],
   "source": [
    "# Remainder (modulo) operator %\n",
    "\n",
    "print(\"10 % 2 = \", 10 % 2)\n",
    "print(\"10 % 3 = \", 10 % 3)\n",
    "\n",
    "# Integer division in Python 3 is done by using two slash signs\n",
    "\n",
    "print(\"10 / 3 = \", 10 / 3)\n",
    "print(\"10 // 3 = \", 10 // 3)"
   ]
  },
  {
   "cell_type": "markdown",
   "metadata": {},
   "source": [
    "完成下面的`CompressedPostings`类，我们将用它来替换`UncompressedPostings`。关于如何使用gap-encoding和可变长字节编码，你可以参考老师课件或者[Chapter 5](https://nlp.stanford.edu/IR-book/pdf/05comp.pdf)。"
   ]
  },
  {
   "cell_type": "code",
   "execution_count": 63,
   "metadata": {
    "ExecuteTime": {
     "end_time": "2023-09-17T06:04:36.674783Z",
     "start_time": "2023-09-17T06:04:36.667652Z"
    }
   },
   "outputs": [],
   "source": [
    "class CompressedPostings:\n",
    "    #If you need any extra helper methods you can add them here \n",
    "    ### Begin your code\n",
    "\n",
    "    # 参考教材Chapter 5提供的伪代码，编写可变长度编码(VBE)的三个函数，并在编码与解码时调用它们\n",
    "    # 每个字节的最高位用于指示是否是编码的最后一个字节，剩余的七位用于存储整数数据\n",
    "    # 代码思路：初始化一个空的字节列表 byte 用于存储编码后的字节序列，然后进入循环\n",
    "    # 循环中计算 n 除以 128 的余数，将余数添加到 byte 列表中。这个余数范围是 0 到 127，因为一个字节的七位可以表示 0 到 127 的整数\n",
    "    # 然后检查 n 是否小于 128，如果是，表示这是编码的最后一个字节，跳出循环，否则将 n 除以 128 的整数部分赋值给 n，进入下一轮\n",
    "    # 最后将 byte 列表反转（因为编码是从低位到高位的），并将结果返回\n",
    "\n",
    "    @staticmethod\n",
    "    def VBEncodeNum(n): # 用VBE编码单个数字\n",
    "        byte = []\n",
    "        while True:\n",
    "            byte.append(n % 128) # 将一个整数拆分成一系列7位的块\n",
    "            if n < 128:\n",
    "                break\n",
    "            n //= 128\n",
    "        byte[0] += 128\n",
    "        return byte[::-1]\n",
    "\n",
    "    @staticmethod\n",
    "    def VBEncode(numbers): # 传入列表，遍历调用VBE单个数字函数\n",
    "        ls = []\n",
    "        for n in numbers :\n",
    "            ls.extend(CompressedPostings.VBEncodeNum(n))\n",
    "        return ls\n",
    "\n",
    "    @staticmethod\n",
    "    def VBDecode(bytestream):\n",
    "        numbers = []\n",
    "        n = 0\n",
    "        for byte in bytestream:\n",
    "            if byte < 128:\n",
    "                n = 128*n + byte\n",
    "            else:\n",
    "                n = 128*n + byte - 128\n",
    "                numbers.append(n)\n",
    "                n = 0\n",
    "        return numbers\n",
    "    ### End your code\n",
    "    \n",
    "    @staticmethod\n",
    "    def encode(postings_list):\n",
    "        \"\"\"Encodes `postings_list` using gap encoding with variable byte \n",
    "        encoding for each gap\n",
    "        \n",
    "        Parameters\n",
    "        ----------\n",
    "        postings_list: List[int]\n",
    "            The postings list to be encoded\n",
    "        \n",
    "        Returns\n",
    "        -------\n",
    "        bytes: \n",
    "            Bytes reprsentation of the compressed postings list \n",
    "            (as produced by `array.tobytes` function)\n",
    "        \"\"\"\n",
    "        ### Begin your code\n",
    "        p = postings_list.copy()\n",
    "        for i in range(1, len(p))[::-1]: # 逆序存储块\n",
    "            p[i] -= p[i-1]\n",
    "        vb = CompressedPostings.VBEncode(p)\n",
    "        return array.array('B', vb).tobytes() # B是类型码，将整数解释为无符号字节\n",
    "        ### End your code\n",
    "\n",
    "        \n",
    "    @staticmethod\n",
    "    def decode(encoded_postings_list): # 将压缩的字节表示的文档ID列表还原为原始的文档ID列表\n",
    "        \"\"\"Decodes a byte representation of compressed postings list\n",
    "        \n",
    "        Parameters\n",
    "        ----------\n",
    "        encoded_postings_list: bytes\n",
    "            Bytes representation as produced by `CompressedPostings.encode` \n",
    "            \n",
    "        Returns\n",
    "        -------\n",
    "        List[int]\n",
    "            Decoded postings list (each posting is a docIds)\n",
    "        \"\"\"\n",
    "        ### Begin your code\n",
    "        vb = array.array('B') # 按B读取\n",
    "        vb.frombytes(encoded_postings_list) # 将经过压缩的字节表示解码并存储到vb字节数组中\n",
    "        postings_list = CompressedPostings.VBDecode(vb.tolist())\n",
    "        for i in range(1, len(postings_list)):\n",
    "            postings_list[i] += postings_list[i-1] # 得到原始文档ID列表\n",
    "        return postings_list\n",
    "        ### End your code\n"
   ]
  },
  {
   "cell_type": "markdown",
   "metadata": {},
   "source": [
    "首先，如果你实现了额外的辅助函数，写一些测试样例"
   ]
  },
  {
   "cell_type": "code",
   "execution_count": 64,
   "metadata": {
    "ExecuteTime": {
     "end_time": "2023-09-17T06:04:38.789388Z",
     "start_time": "2023-09-17T06:04:38.777800Z"
    }
   },
   "outputs": [
    {
     "data": {
      "text/plain": "[128, 129]"
     },
     "execution_count": 64,
     "metadata": {},
     "output_type": "execute_result"
    }
   ],
   "source": [
    "### Begin your code\n",
    "CompressedPostings.VBEncodeNum(0)\n",
    "CompressedPostings.VBEncode([0,1])\n",
    "### End your code"
   ]
  },
  {
   "cell_type": "markdown",
   "metadata": {},
   "source": [
    "我们实现了一个简单的函数来测试你编码的列表是否被正确解码"
   ]
  },
  {
   "cell_type": "code",
   "execution_count": 61,
   "metadata": {
    "ExecuteTime": {
     "end_time": "2023-09-17T06:04:22.446410Z",
     "start_time": "2023-09-17T06:04:22.433540Z"
    }
   },
   "outputs": [],
   "source": [
    "def test_encode_decode(l):\n",
    "    e = CompressedPostings.encode(l)\n",
    "    d = CompressedPostings.decode(e)\n",
    "    assert d == l\n",
    "    print(l, e)"
   ]
  },
  {
   "cell_type": "markdown",
   "metadata": {},
   "source": [
    "写一些测试样例来确保文档列表的压缩和解压正常运行"
   ]
  },
  {
   "cell_type": "code",
   "execution_count": 65,
   "metadata": {
    "ExecuteTime": {
     "end_time": "2023-09-17T06:04:40.908635Z",
     "start_time": "2023-09-17T06:04:40.898461Z"
    }
   },
   "outputs": [
    {
     "name": "stdout",
     "output_type": "stream",
     "text": [
      "[824, 829, 5406, 7658] b'\\x06\\xb8\\x85#\\xe1\\x11\\xcc'\n"
     ]
    }
   ],
   "source": [
    "### Begin your code\n",
    "test_encode_decode([824, 829, 5406, 7658])\n",
    "### End your code"
   ]
  },
  {
   "cell_type": "markdown",
   "metadata": {},
   "source": [
    "现在让我们创建一个新的输出文件夹并使用`CompressedPostings`来构建压缩索引"
   ]
  },
  {
   "cell_type": "code",
   "execution_count": 48,
   "metadata": {
    "ExecuteTime": {
     "end_time": "2023-09-17T04:23:09.344993Z",
     "start_time": "2023-09-17T04:23:09.334565Z"
    }
   },
   "outputs": [],
   "source": [
    "try: \n",
    "    os.mkdir('output_dir_compressed')\n",
    "except FileExistsError:\n",
    "    pass"
   ]
  },
  {
   "cell_type": "code",
   "execution_count": 67,
   "metadata": {
    "ExecuteTime": {
     "end_time": "2023-09-17T06:06:00.046248Z",
     "start_time": "2023-09-17T06:05:00.007397Z"
    }
   },
   "outputs": [],
   "source": [
    "BSBI_instance_compressed = BSBIIndex(data_dir='pa1-data', output_dir = 'output_dir_compressed', postings_encoding=CompressedPostings)\n",
    "BSBI_instance_compressed.index()"
   ]
  },
  {
   "cell_type": "code",
   "execution_count": 68,
   "metadata": {
    "ExecuteTime": {
     "end_time": "2023-09-17T06:06:03.430893Z",
     "start_time": "2023-09-17T06:06:03.275713Z"
    }
   },
   "outputs": [
    {
     "data": {
      "text/plain": "['1/cs276.stanford.edu_',\n '1/cs276a.stanford.edu_',\n '3/infolab.stanford.edu_TR_CS-TN-95-21.html',\n '4/nlp.stanford.edu_IR-book_',\n '4/nlp.stanford.edu_IR-book_html_htmledition_an-appraisal-of-probabilistic-models-1.html',\n '4/nlp.stanford.edu_IR-book_html_htmledition_bayesian-network-approaches-to-ir-1.html',\n '4/nlp.stanford.edu_IR-book_html_htmledition_boolean-retrieval-2.html',\n '4/nlp.stanford.edu_IR-book_html_htmledition_computing-scores-in-a-complete-search-system-1.html',\n '4/nlp.stanford.edu_IR-book_html_htmledition_dictionaries-and-tolerant-retrieval-1.html',\n '4/nlp.stanford.edu_IR-book_html_htmledition_efficient-scoring-and-ranking-1.html',\n '4/nlp.stanford.edu_IR-book_html_htmledition_inexact-top-k-document-retrieval-1.html',\n '4/nlp.stanford.edu_IR-book_html_htmledition_probabilistic-information-retrieval-1.html',\n '4/nlp.stanford.edu_IR-book_html_htmledition_putting-it-all-together-1.html',\n '4/nlp.stanford.edu_IR-book_html_htmledition_references-and-further-reading-1.html',\n '4/nlp.stanford.edu_IR-book_html_htmledition_the-search-user-experience-1.html',\n '4/nlp.stanford.edu_IR-book_html_htmledition_vector-space-scoring-and-query-operator-interaction-1.html',\n '4/nlp.stanford.edu_IR-book_html_htmledition_weighted-zone-scoring-1.html',\n '4/nlp.stanford.edu_IR-book_html_htmledition_wildcard-queries-2.html',\n '4/nlp.stanford.edu_IR-book_newslides.html',\n '6/www-nlp.stanford.edu_IR-book_essir2011_',\n '8/www.stanford.edu_class_cs124_']"
     },
     "execution_count": 68,
     "metadata": {},
     "output_type": "execute_result"
    }
   ],
   "source": [
    "BSBI_instance_compressed = BSBIIndex(data_dir='pa1-data', output_dir = 'output_dir_compressed', postings_encoding=CompressedPostings)\n",
    "BSBI_instance_compressed.retrieve('boolean retrieval')"
   ]
  },
  {
   "cell_type": "markdown",
   "metadata": {},
   "source": [
    "像之前一样，用已构造好的查询语句来测试是否正常运行"
   ]
  },
  {
   "cell_type": "code",
   "execution_count": 69,
   "metadata": {
    "ExecuteTime": {
     "end_time": "2023-09-17T06:06:08.938820Z",
     "start_time": "2023-09-17T06:06:07.748229Z"
    }
   },
   "outputs": [
    {
     "name": "stdout",
     "output_type": "stream",
     "text": [
      "Results match for query: we are\n",
      "Results match for query: stanford class\n",
      "Results match for query: stanford students\n",
      "Results match for query: very cool\n",
      "Results match for query: the\n",
      "Results match for query: a\n",
      "Results match for query: the the\n",
      "Results match for query: stanford computer science\n"
     ]
    }
   ],
   "source": [
    "for i in range(1, 9):\n",
    "    with open('dev_queries/query.' + str(i)) as q:\n",
    "        query = q.read()\n",
    "        my_results = [os.path.normpath(path) for path in BSBI_instance_compressed.retrieve(query)]\n",
    "        with open('dev_output/' + str(i) + '.out') as o:\n",
    "            reference_results = [os.path.normpath(x.strip()) for x in o.readlines()]\n",
    "            assert my_results == reference_results, \"Results DO NOT match for query: \"+query.strip()\n",
    "        print(\"Results match for query:\", query.strip())"
   ]
  },
  {
   "cell_type": "markdown",
   "metadata": {},
   "source": [
    "# 额外的编码方式 (10%)"
   ]
  },
  {
   "cell_type": "markdown",
   "metadata": {},
   "source": [
    "通过补充`ECCompressedPostings`的`encode` 和 `decode`方法来实现一种额外的索引压缩方式。在我们课上学的就是**gamma-encoding** 。另外如果大家感兴趣的话也可以了解**Delta Encoding** ，[ALGORITHM SIMPLE-9](https://github.com/manning/CompressionAlgorithms#simple-9) 等。\n",
    "\n",
    "你应该以多字节（而不是bits）来存储倒排记录表，因为索引的长度和位置都存的是字节信息。"
   ]
  },
  {
   "cell_type": "markdown",
   "source": [
    "我们这里采用Elias-$\\gamma$编码，简单介绍一下编码与解码的做法：\n",
    "要对一个数字*x*进行编码，我们要：\n",
    "- 找到一个最大的正整数*N*，使得：$2^N\\le x$\n",
    "- 使用一元编码对*N*进行编码（即*N*个零后跟一个 1）\n",
    "- 使用二进制形式附加*N*位整数($x-2^N$)"
   ],
   "metadata": {
    "collapsed": false
   }
  },
  {
   "cell_type": "markdown",
   "source": [
    "而要对Elias-$\\gamma$进行解码，我们要：\n",
    "- 从流中读取并计数 0，直到到达第一个 1。将此零计数称为*N*\n",
    "- 整数的第一位，值为2*N*，读取整数的剩余*N*位"
   ],
   "metadata": {
    "collapsed": false
   }
  },
  {
   "cell_type": "code",
   "execution_count": 57,
   "metadata": {
    "ExecuteTime": {
     "end_time": "2023-09-17T04:46:28.472360Z",
     "start_time": "2023-09-17T04:46:28.463808Z"
    }
   },
   "outputs": [],
   "source": [
    "class ECCompressedPostings:\n",
    "    #If you need any extra helper methods you can add them here \n",
    "    ### Begin your code\n",
    "\n",
    "    # 由于给出的encode函数传入的是一个列表，为了遍历方便，在这里实现对单个数字进行编码\n",
    "    @staticmethod\n",
    "    def encodeNum(num): # 找一个最大的整数n，使得2^n <= num\n",
    "        if num == 0 or num == 1: # num为0或1直接返回0\n",
    "            return '0'\n",
    "        # 将num转换为它的二进制表示，如5->101\n",
    "        binary = '1' * int(log(num, 2)) + '0' + bin(num)[3:]\n",
    "        return binary\n",
    "    ### End your code\n",
    "    \n",
    "    @staticmethod\n",
    "    def encode(postings_list):\n",
    "        \"\"\"Encodes `postings_list` \n",
    "        \n",
    "        Parameters\n",
    "        ----------\n",
    "        postings_list: List[int]\n",
    "            The postings list to be encoded\n",
    "        \n",
    "        Returns\n",
    "        -------\n",
    "        bytes: \n",
    "            Bytes reprsentation of the compressed postings list \n",
    "        \"\"\"\n",
    "        ### Begin your code\n",
    "        encoded_postings_list = ''\n",
    "        encoded_postings_list += ECCompressedPostings.encodeNum(postings_list[0] - (-1))\n",
    "        for i in range(1, len(postings_list)):\n",
    "            encoded_postings_list += ECCompressedPostings.encodeNum(postings_list[i] - postings_list[i - 1])\n",
    "        bytestream = array.array('B',[int(encoded_postings_list[x:x+8],2) for x in range(0, len(encoded_postings_list), 8)]).tobytes()\n",
    "        return bytestream\n",
    "        ### End your code\n",
    "\n",
    "    @staticmethod\n",
    "    def decode(encoded_postings_list):\n",
    "        \"\"\"Decodes a byte representation of compressed postings list\n",
    "        \n",
    "        Parameters\n",
    "        ----------\n",
    "        encoded_postings_list: bytes\n",
    "            Bytes representation as produced by `CompressedPostings.encode` \n",
    "            \n",
    "        Returns\n",
    "        -------\n",
    "        List[int]\n",
    "            Decoded postings list (each posting is a docId)\n",
    "        \"\"\"\n",
    "        ### Begin your code\n",
    "        decoded_bytes_list = array.array('B')\n",
    "        decoded_bytes_list.frombytes(encoded_postings_list)\n",
    "        decoded_postings_list = ''.join([bin(x)[2:].zfill(8) for x in decoded_bytes_list])\n",
    "        decoded_postings_list = decoded_postings_list[:-7] + bin(decoded_bytes_list[-1])[2:]\n",
    "\n",
    "        postings_list = []\n",
    "        base, idx, n = -1, 0, len(decoded_postings_list)\n",
    "        while idx < n:\n",
    "            length = 0\n",
    "            while idx < n and decoded_postings_list[idx] == '1':\n",
    "                length += 1\n",
    "                idx += 1\n",
    "            if idx < n:\n",
    "                idx = idx + 1 + length\n",
    "                gap = int('1' + decoded_postings_list[idx-length : idx], 2)\n",
    "                posting = base + gap\n",
    "                postings_list.append(posting)\n",
    "                base = posting\n",
    "        return postings_list\n",
    "        ### End your code"
   ]
  },
  {
   "cell_type": "code",
   "execution_count": 58,
   "metadata": {
    "ExecuteTime": {
     "end_time": "2023-09-17T04:46:32.582991Z",
     "start_time": "2023-09-17T04:46:32.571916Z"
    }
   },
   "outputs": [
    {
     "name": "stdout",
     "output_type": "stream",
     "text": [
      "[1, 2, 3, 5, 8, 13, 21, 34] b'\\x81\\x81\\x81\\x82\\x83\\x85\\x88\\x8d'\n"
     ]
    }
   ],
   "source": [
    "test_encode_decode( [1,2,3,5,8,13,21,34])"
   ]
  },
  {
   "cell_type": "markdown",
   "source": [
    "# 实验心得：\n",
    "- 跟着给出的代码框架，(艰难的)实现了一个简易的检索系统。个人感觉代码框架中给出的测试比较玄幻，通过了测试但其实代码是错的，直到在真实数据集上测试代码是否工作时才发现前面很远的地方有两个函数写的都不合理，debug的过程极其艰难\n",
    "- 熟悉了Python语言的使用，学习了很多库函数的使用\n",
    "- 对信息检索系统有了更清楚的认知，了解了倒排索引表的构建和工作原理"
   ],
   "metadata": {
    "collapsed": false
   }
  },
  {
   "cell_type": "markdown",
   "metadata": {},
   "source": [
    "# 作业提交\n",
    "\n",
    "本次作业截止日期为9.27。请大家在截止日期前将代码（包含运行结果，测试内容不作要求），实验报告（可单独撰写，也可整合在jupyter notebook中）一起提交到nkuir2023fall@163.com，命名方式为`学号_姓名_hw1`。"
   ]
  }
 ],
 "metadata": {
  "kernelspec": {
   "display_name": "Python 3",
   "language": "python",
   "name": "python3"
  },
  "language_info": {
   "codemirror_mode": {
    "name": "ipython",
    "version": 3
   },
   "file_extension": ".py",
   "mimetype": "text/x-python",
   "name": "python",
   "nbconvert_exporter": "python",
   "pygments_lexer": "ipython3",
   "version": "3.9.1"
  },
  "toc": {
   "base_numbering": 1,
   "nav_menu": {
    "height": "66px",
    "width": "252px"
   },
   "number_sections": true,
   "sideBar": true,
   "skip_h1_title": false,
   "title_cell": "Table of Contents",
   "title_sidebar": "Contents",
   "toc_cell": false,
   "toc_position": {},
   "toc_section_display": "block",
   "toc_window_display": false
  }
 },
 "nbformat": 4,
 "nbformat_minor": 2
}
